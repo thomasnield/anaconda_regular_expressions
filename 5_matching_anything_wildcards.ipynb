{
 "cells": [
  {
   "cell_type": "markdown",
   "id": "4a0f460a",
   "metadata": {},
   "source": [
    "# Matching Anything with Wildcards"
   ]
  },
  {
   "cell_type": "markdown",
   "id": "d60dbea8",
   "metadata": {},
   "source": [
    "The **wildcard** is represented by a single dot `.` and will match any character expect for a newline. It is especially useful when paired with quantifiers, creating placeholders for characters you often do not care to be specific with. Let's jump right in. "
   ]
  },
  {
   "cell_type": "markdown",
   "id": "febe8879",
   "metadata": {},
   "source": [
    "## The Wildcard"
   ]
  },
  {
   "cell_type": "markdown",
   "id": "6475ca99",
   "metadata": {},
   "source": [
    "We learned how to specifically specify characters in previous sections using literals and character ranges. If we wanted to only match the strings \"Bear\" and \"Beer\" we could do it like this: "
   ]
  },
  {
   "cell_type": "code",
   "execution_count": 24,
   "id": "ddd20c6f",
   "metadata": {},
   "outputs": [
    {
     "data": {
      "text/plain": [
       "True"
      ]
     },
     "execution_count": 24,
     "metadata": {},
     "output_type": "execute_result"
    }
   ],
   "source": [
    "from re import fullmatch\n",
    "\n",
    "fullmatch(pattern=\"Be[ea]r\", string=\"Bear\") != None"
   ]
  },
  {
   "cell_type": "code",
   "execution_count": 25,
   "id": "5c0a6f4c",
   "metadata": {},
   "outputs": [
    {
     "data": {
      "text/plain": [
       "True"
      ]
     },
     "execution_count": 25,
     "metadata": {},
     "output_type": "execute_result"
    }
   ],
   "source": [
    "fullmatch(pattern=\"Be[ea]r\", string=\"Beer\") != None"
   ]
  },
  {
   "cell_type": "code",
   "execution_count": 26,
   "id": "45f2fe63",
   "metadata": {},
   "outputs": [
    {
     "data": {
      "text/plain": [
       "False"
      ]
     },
     "execution_count": 26,
     "metadata": {},
     "output_type": "execute_result"
    }
   ],
   "source": [
    "fullmatch(pattern=\"Be[ea]r\", string=\"Behr\") != None"
   ]
  },
  {
   "cell_type": "code",
   "execution_count": 27,
   "id": "ac79673c",
   "metadata": {},
   "outputs": [
    {
     "data": {
      "text/plain": [
       "False"
      ]
     },
     "execution_count": 27,
     "metadata": {},
     "output_type": "execute_result"
    }
   ],
   "source": [
    "fullmatch(pattern=\"Be[ea]r\", string=\"Be,r\") != None"
   ]
  },
  {
   "cell_type": "markdown",
   "id": "d253b956",
   "metadata": {},
   "source": [
    "But let's say we dropped that \"Bear\" or \"Beer\" requirement. We want to match *any* character in that third position, and do not even want to specify whether it is a letter or a number. It could even be punctuation or whitespace (except newline which does not match). The dot/wildcard operator `.` will serve this purpose. "
   ]
  },
  {
   "cell_type": "code",
   "execution_count": 28,
   "id": "d601dd44",
   "metadata": {},
   "outputs": [
    {
     "data": {
      "text/plain": [
       "True"
      ]
     },
     "execution_count": 28,
     "metadata": {},
     "output_type": "execute_result"
    }
   ],
   "source": [
    "fullmatch(pattern=\"Be.r\", string=\"Bear\") != None"
   ]
  },
  {
   "cell_type": "code",
   "execution_count": 29,
   "id": "ade8e6d9",
   "metadata": {},
   "outputs": [
    {
     "data": {
      "text/plain": [
       "True"
      ]
     },
     "execution_count": 29,
     "metadata": {},
     "output_type": "execute_result"
    }
   ],
   "source": [
    "fullmatch(pattern=\"Be.r\", string=\"Beer\") != None"
   ]
  },
  {
   "cell_type": "code",
   "execution_count": 30,
   "id": "6d4562ed",
   "metadata": {},
   "outputs": [
    {
     "data": {
      "text/plain": [
       "True"
      ]
     },
     "execution_count": 30,
     "metadata": {},
     "output_type": "execute_result"
    }
   ],
   "source": [
    "fullmatch(pattern=\"Be.r\", string=\"Behr\") != None"
   ]
  },
  {
   "cell_type": "code",
   "execution_count": 31,
   "id": "eb0a8b25",
   "metadata": {},
   "outputs": [
    {
     "data": {
      "text/plain": [
       "True"
      ]
     },
     "execution_count": 31,
     "metadata": {},
     "output_type": "execute_result"
    }
   ],
   "source": [
    "fullmatch(pattern=\"Be.r\", string=\"Be,r\") != None"
   ]
  },
  {
   "cell_type": "markdown",
   "id": "73d6f5e6",
   "metadata": {},
   "source": [
    "Notice it will match whitespace like a space or tab. A tab can be expressed in a Python string using `\\t`. "
   ]
  },
  {
   "cell_type": "code",
   "execution_count": 32,
   "id": "97c01336",
   "metadata": {},
   "outputs": [
    {
     "data": {
      "text/plain": [
       "True"
      ]
     },
     "execution_count": 32,
     "metadata": {},
     "output_type": "execute_result"
    }
   ],
   "source": [
    "fullmatch(pattern=\"Be.r\", string=\"Be r\") != None"
   ]
  },
  {
   "cell_type": "code",
   "execution_count": 33,
   "id": "f8a3ba78",
   "metadata": {},
   "outputs": [
    {
     "data": {
      "text/plain": [
       "True"
      ]
     },
     "execution_count": 33,
     "metadata": {},
     "output_type": "execute_result"
    }
   ],
   "source": [
    "fullmatch(pattern=\"Be.r\", string=\"Be\\tr\") != None"
   ]
  },
  {
   "cell_type": "markdown",
   "id": "62ae2778",
   "metadata": {},
   "source": [
    "However, it will not match a newline. A newline can be expressed in Python using `\\n` or a multline string. "
   ]
  },
  {
   "cell_type": "code",
   "execution_count": 35,
   "id": "421f6a64",
   "metadata": {},
   "outputs": [
    {
     "data": {
      "text/plain": [
       "False"
      ]
     },
     "execution_count": 35,
     "metadata": {},
     "output_type": "execute_result"
    }
   ],
   "source": [
    "fullmatch(pattern=\"Be.r\", string=\"Be\\nr\") != None"
   ]
  },
  {
   "cell_type": "code",
   "execution_count": 36,
   "id": "f9f08970",
   "metadata": {},
   "outputs": [
    {
     "data": {
      "text/plain": [
       "False"
      ]
     },
     "execution_count": 36,
     "metadata": {},
     "output_type": "execute_result"
    }
   ],
   "source": [
    "# there's a newline as the third character in this string\n",
    "my_str = \"\"\"Be\n",
    "r\n",
    "\"\"\" \n",
    "\n",
    "fullmatch(pattern=\"Be.r\", string=my_str) != None"
   ]
  },
  {
   "cell_type": "markdown",
   "id": "5be545b2",
   "metadata": {},
   "source": [
    "## Wildcards with Quantifiers"
   ]
  },
  {
   "cell_type": "markdown",
   "id": "8754a5ab",
   "metadata": {},
   "source": [
    "It is common to use wildcards with quantifiers, most commonly `.*` and `.+`. \n",
    "\n",
    "The `.*` will match 0 or more of any characters. It will match any string and is the broadest regular expression. It will even match an empty string. "
   ]
  },
  {
   "cell_type": "code",
   "execution_count": 37,
   "id": "3d0976b8",
   "metadata": {
    "scrolled": true
   },
   "outputs": [
    {
     "data": {
      "text/plain": [
       "True"
      ]
     },
     "execution_count": 37,
     "metadata": {},
     "output_type": "execute_result"
    }
   ],
   "source": [
    "fullmatch(pattern=\".*\", string=\"That regex will match anything!\") != None"
   ]
  },
  {
   "cell_type": "code",
   "execution_count": 41,
   "id": "b4da99f7",
   "metadata": {
    "scrolled": false
   },
   "outputs": [
    {
     "data": {
      "text/plain": [
       "False"
      ]
     },
     "execution_count": 41,
     "metadata": {},
     "output_type": "execute_result"
    }
   ],
   "source": [
    "fullmatch(pattern=\".*\", string=\"\") != None"
   ]
  },
  {
   "cell_type": "markdown",
   "id": "a44f8084",
   "metadata": {},
   "source": [
    "Of course, in Python speak an empty string `\"\"` is not the same as `None`, so do not expect it to match `None`. It will throw an error. "
   ]
  },
  {
   "cell_type": "code",
   "execution_count": 42,
   "id": "2c05efed",
   "metadata": {
    "scrolled": true
   },
   "outputs": [
    {
     "ename": "TypeError",
     "evalue": "expected string or bytes-like object, got 'NoneType'",
     "output_type": "error",
     "traceback": [
      "\u001b[0;31m---------------------------------------------------------------------------\u001b[0m",
      "\u001b[0;31mTypeError\u001b[0m                                 Traceback (most recent call last)",
      "Cell \u001b[0;32mIn[42], line 1\u001b[0m\n\u001b[0;32m----> 1\u001b[0m \u001b[43mfullmatch\u001b[49m\u001b[43m(\u001b[49m\u001b[43mpattern\u001b[49m\u001b[38;5;241;43m=\u001b[39;49m\u001b[38;5;124;43m\"\u001b[39;49m\u001b[38;5;124;43m.*\u001b[39;49m\u001b[38;5;124;43m\"\u001b[39;49m\u001b[43m,\u001b[49m\u001b[43m \u001b[49m\u001b[43mstring\u001b[49m\u001b[38;5;241;43m=\u001b[39;49m\u001b[38;5;28;43;01mNone\u001b[39;49;00m\u001b[43m)\u001b[49m \u001b[38;5;241m!=\u001b[39m \u001b[38;5;28;01mNone\u001b[39;00m\n",
      "File \u001b[0;32m/Library/Frameworks/Python.framework/Versions/3.12/lib/python3.12/re/__init__.py:172\u001b[0m, in \u001b[0;36mfullmatch\u001b[0;34m(pattern, string, flags)\u001b[0m\n\u001b[1;32m    169\u001b[0m \u001b[38;5;28;01mdef\u001b[39;00m \u001b[38;5;21mfullmatch\u001b[39m(pattern, string, flags\u001b[38;5;241m=\u001b[39m\u001b[38;5;241m0\u001b[39m):\n\u001b[1;32m    170\u001b[0m \u001b[38;5;250m    \u001b[39m\u001b[38;5;124;03m\"\"\"Try to apply the pattern to all of the string, returning\u001b[39;00m\n\u001b[1;32m    171\u001b[0m \u001b[38;5;124;03m    a Match object, or None if no match was found.\"\"\"\u001b[39;00m\n\u001b[0;32m--> 172\u001b[0m     \u001b[38;5;28;01mreturn\u001b[39;00m \u001b[43m_compile\u001b[49m\u001b[43m(\u001b[49m\u001b[43mpattern\u001b[49m\u001b[43m,\u001b[49m\u001b[43m \u001b[49m\u001b[43mflags\u001b[49m\u001b[43m)\u001b[49m\u001b[38;5;241;43m.\u001b[39;49m\u001b[43mfullmatch\u001b[49m\u001b[43m(\u001b[49m\u001b[43mstring\u001b[49m\u001b[43m)\u001b[49m\n",
      "\u001b[0;31mTypeError\u001b[0m: expected string or bytes-like object, got 'NoneType'"
     ]
    }
   ],
   "source": [
    "fullmatch(pattern=\".*\", string=None) != None"
   ]
  },
  {
   "cell_type": "markdown",
   "id": "84ecf0de",
   "metadata": {},
   "source": [
    "Inside a larger pattern, it will match 0 or more characters at that position. It's a way of expressing a wildcard for any number of characters. If I wanted to match strings where the first two letters are `Be` and the last letter is `r`, regardless of the string length, I can use `.*` like this. "
   ]
  },
  {
   "cell_type": "code",
   "execution_count": 43,
   "id": "6fc514f7",
   "metadata": {},
   "outputs": [
    {
     "data": {
      "text/plain": [
       "True"
      ]
     },
     "execution_count": 43,
     "metadata": {},
     "output_type": "execute_result"
    }
   ],
   "source": [
    "fullmatch(pattern=\"Be.*r\", string=\"Bear\") != None"
   ]
  },
  {
   "cell_type": "code",
   "execution_count": 44,
   "id": "91ebb38d",
   "metadata": {},
   "outputs": [
    {
     "data": {
      "text/plain": [
       "True"
      ]
     },
     "execution_count": 44,
     "metadata": {},
     "output_type": "execute_result"
    }
   ],
   "source": [
    "fullmatch(pattern=\"Be.*r\", string=\"Ber\") != None"
   ]
  },
  {
   "cell_type": "code",
   "execution_count": 45,
   "id": "e37d69d3",
   "metadata": {
    "scrolled": true
   },
   "outputs": [
    {
     "data": {
      "text/plain": [
       "True"
      ]
     },
     "execution_count": 45,
     "metadata": {},
     "output_type": "execute_result"
    }
   ],
   "source": [
    "fullmatch(pattern=\"Be.*r\", string=\"Be faster\") != None"
   ]
  },
  {
   "cell_type": "markdown",
   "id": "7523d74c",
   "metadata": {},
   "source": [
    "The `.+` will behave similary to `.*`, except there must be at least one character in the string. This means it will not match empty strings. "
   ]
  },
  {
   "cell_type": "code",
   "execution_count": 46,
   "id": "0986157f",
   "metadata": {},
   "outputs": [
    {
     "data": {
      "text/plain": [
       "True"
      ]
     },
     "execution_count": 46,
     "metadata": {},
     "output_type": "execute_result"
    }
   ],
   "source": [
    "fullmatch(pattern=\".+\", string=\"That regex will match anything but empty strings!\") != None"
   ]
  },
  {
   "cell_type": "code",
   "execution_count": 47,
   "id": "73b254fb",
   "metadata": {},
   "outputs": [
    {
     "data": {
      "text/plain": [
       "False"
      ]
     },
     "execution_count": 47,
     "metadata": {},
     "output_type": "execute_result"
    }
   ],
   "source": [
    "fullmatch(pattern=\".+\", string=\"\") != None"
   ]
  },
  {
   "cell_type": "code",
   "execution_count": 48,
   "id": "af43c1ad",
   "metadata": {},
   "outputs": [
    {
     "data": {
      "text/plain": [
       "True"
      ]
     },
     "execution_count": 48,
     "metadata": {},
     "output_type": "execute_result"
    }
   ],
   "source": [
    "fullmatch(pattern=\"Be.+r\", string=\"Bear\") != None"
   ]
  },
  {
   "cell_type": "code",
   "execution_count": 50,
   "id": "e68c4d5f",
   "metadata": {},
   "outputs": [
    {
     "data": {
      "text/plain": [
       "False"
      ]
     },
     "execution_count": 50,
     "metadata": {},
     "output_type": "execute_result"
    }
   ],
   "source": [
    "fullmatch(pattern=\"Be.+r\", string=\"Ber\") != None"
   ]
  },
  {
   "cell_type": "code",
   "execution_count": 51,
   "id": "c1bae0af",
   "metadata": {
    "scrolled": true
   },
   "outputs": [
    {
     "data": {
      "text/plain": [
       "True"
      ]
     },
     "execution_count": 51,
     "metadata": {},
     "output_type": "execute_result"
    }
   ],
   "source": [
    "fullmatch(pattern=\"Be.+r\", string=\"Be faster\") != None"
   ]
  },
  {
   "cell_type": "markdown",
   "id": "5ed8a35b",
   "metadata": {},
   "source": [
    "## Exercise"
   ]
  },
  {
   "cell_type": "markdown",
   "id": "8173859e",
   "metadata": {},
   "source": [
    "Write a regular expression that matches a string starting with \"ALPHA\" and ends with a digit, regardless if there are other characters between those two patterns. Replace the question mark `?` below with the regular expression. "
   ]
  },
  {
   "cell_type": "code",
   "execution_count": null,
   "id": "f5c207c6",
   "metadata": {},
   "outputs": [],
   "source": [
    "from re import fullmatch \n",
    "\n",
    "fullmatch(pattern=?, string=\"ALPHA,TANGO,FOXTROT 7\") != None"
   ]
  },
  {
   "cell_type": "markdown",
   "id": "82f05f9c",
   "metadata": {},
   "source": [
    "### SCROLL DOWN FOR ANSWER\n",
    "|<br>\n",
    "|<br>\n",
    "|<br>\n",
    "|<br>\n",
    "|<br>\n",
    "|<br>\n",
    "|<br>\n",
    "|<br>\n",
    "|<br>\n",
    "|<br>\n",
    "|<br>\n",
    "|<br>\n",
    "|<br>\n",
    "|<br>\n",
    "|<br>\n",
    "|<br>\n",
    "|<br>\n",
    "|<br>\n",
    "|<br>\n",
    "|<br>\n",
    "|<br>\n",
    "|<br>\n",
    "|<br>\n",
    "v "
   ]
  },
  {
   "cell_type": "markdown",
   "id": "83310bfe",
   "metadata": {},
   "source": [
    "Use the regex `ALPHA.*[0-9]` to match a string starting with `ALPHA` and ending in a digit. "
   ]
  },
  {
   "cell_type": "code",
   "execution_count": 52,
   "id": "160157b1",
   "metadata": {},
   "outputs": [
    {
     "data": {
      "text/plain": [
       "True"
      ]
     },
     "execution_count": 52,
     "metadata": {},
     "output_type": "execute_result"
    }
   ],
   "source": [
    "fullmatch(pattern=\"ALPHA.*[0-9]\", string=\"ALPHA,TANGO,FOXTROT 7\") != None"
   ]
  }
 ],
 "metadata": {
  "kernelspec": {
   "display_name": "Python 3 (ipykernel)",
   "language": "python",
   "name": "python3"
  },
  "language_info": {
   "codemirror_mode": {
    "name": "ipython",
    "version": 3
   },
   "file_extension": ".py",
   "mimetype": "text/x-python",
   "name": "python",
   "nbconvert_exporter": "python",
   "pygments_lexer": "ipython3",
   "version": "3.12.2"
  }
 },
 "nbformat": 4,
 "nbformat_minor": 5
}
