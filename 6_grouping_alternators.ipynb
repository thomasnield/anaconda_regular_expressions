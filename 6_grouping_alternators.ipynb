{
 "cells": [
  {
   "cell_type": "markdown",
   "id": "adf0926f",
   "metadata": {},
   "source": [
    "# Grouping and Alternators"
   ]
  },
  {
   "cell_type": "markdown",
   "id": "5bab7c47",
   "metadata": {},
   "source": [
    "We are going to learn how to group up different patterns using parantheses, use alternators to switch between different patterns, as well as use prefixes and suffixes. "
   ]
  },
  {
   "cell_type": "markdown",
   "id": "8190ef99",
   "metadata": {},
   "source": [
    "## Grouping"
   ]
  },
  {
   "cell_type": "markdown",
   "id": "844337f1",
   "metadata": {},
   "source": [
    "You might have encountered already a need to quantify an entire series of patterns in a regular expression and not just one. For instance, let's say you wanted to match the words \"Support\" and \"Supported\". We could group up the two literals `ed` into parantheses with an optional quantifier `(ed)?`. "
   ]
  },
  {
   "cell_type": "code",
   "execution_count": null,
   "id": "138fea4d",
   "metadata": {},
   "outputs": [],
   "source": [
    "from re import fullmatch\n",
    "\n",
    "fullmatch(pattern=\"Support(ed)?\", string=\"Support\") != None"
   ]
  },
  {
   "cell_type": "code",
   "execution_count": null,
   "id": "53b7a7bf",
   "metadata": {},
   "outputs": [],
   "source": [
    "fullmatch(pattern=\"Support(ed)?\", string=\"Supported\") != None"
   ]
  },
  {
   "cell_type": "code",
   "execution_count": null,
   "id": "016abdd4",
   "metadata": {},
   "outputs": [],
   "source": [
    "fullmatch(pattern=\"Support(ed)?\", string=\"Supportability\") != None"
   ]
  },
  {
   "cell_type": "markdown",
   "id": "5763b400",
   "metadata": {},
   "source": [
    "What if we wanted to match any sequence of an alphabetic letter followed by a digit, but repeat that pattern an indefinite amount of times? We can do that by using parantheses followed by a `+` to quantify that expression one or more times. "
   ]
  },
  {
   "cell_type": "code",
   "execution_count": null,
   "id": "2ba8f2eb",
   "metadata": {},
   "outputs": [],
   "source": [
    "fullmatch(pattern=\"([A-Z][0-9])+\", string=\"A2\") != None"
   ]
  },
  {
   "cell_type": "code",
   "execution_count": null,
   "id": "65af88c9",
   "metadata": {},
   "outputs": [],
   "source": [
    "fullmatch(pattern=\"([A-Z][0-9])+\", string=\"F4W9F3W6\") != None"
   ]
  },
  {
   "cell_type": "markdown",
   "id": "fb07e0be",
   "metadata": {},
   "source": [
    "Here is final example matching a US phone number of 10 digits with optional hyphens, and the area code (the first three digits) is optional. "
   ]
  },
  {
   "cell_type": "code",
   "execution_count": null,
   "id": "5abfd9c3",
   "metadata": {},
   "outputs": [],
   "source": [
    "fullmatch(pattern=\"([0-9]{3}-?)?[0-9]{3}-?[0-9]{4}\", string=\"4803718745\") != None"
   ]
  },
  {
   "cell_type": "code",
   "execution_count": null,
   "id": "b8598498",
   "metadata": {},
   "outputs": [],
   "source": [
    "fullmatch(pattern=\"([0-9]{3}-?)?[0-9]{3}-?[0-9]{4}\", string=\"371-8745\") != None"
   ]
  },
  {
   "cell_type": "code",
   "execution_count": null,
   "id": "df851cb5",
   "metadata": {},
   "outputs": [],
   "source": [
    "fullmatch(pattern=\"([0-9]{3}-?)?[0-9]{3}-?[0-9]{4}\", string=\"480-371-8745\") != None"
   ]
  },
  {
   "cell_type": "markdown",
   "id": "3d93a595",
   "metadata": {},
   "source": [
    "Remember to always read a regular expressio from left to right, and pay attention to groupings of patterns in parantheses and realize a quantifier is likely to follow repeating that whole sequence of patterns. "
   ]
  },
  {
   "cell_type": "markdown",
   "id": "ee25ce73",
   "metadata": {},
   "source": [
    "## Alternators"
   ]
  },
  {
   "cell_type": "markdown",
   "id": "b4dea868",
   "metadata": {},
   "source": [
    "Another useful operator is the alternator `|` which allows us to switch between two patterns. Think of it as an `OR` in a regular expression. Below we match simple literal strings \"ALPHA\", \"BETA\", \"GAMMA\", and \"DELTA\" using the alternator `|`. The regular expression will only match these four strings."
   ]
  },
  {
   "cell_type": "code",
   "execution_count": null,
   "id": "9a05e21a",
   "metadata": {},
   "outputs": [],
   "source": [
    "fullmatch(pattern=\"ALPHA|BETA|GAMMA|DELTA\", string=\"ALPHA\") != None"
   ]
  },
  {
   "cell_type": "code",
   "execution_count": null,
   "id": "df24f5cf",
   "metadata": {},
   "outputs": [],
   "source": [
    "fullmatch(pattern=\"ALPHA|BETA|GAMMA|DELTA\", string=\"DELTA\") != None"
   ]
  },
  {
   "cell_type": "code",
   "execution_count": null,
   "id": "a10e42bf",
   "metadata": {},
   "outputs": [],
   "source": [
    "fullmatch(pattern=\"ALPHA|BETA|GAMMA|DELTA\", string=\"EPSILON\") != None"
   ]
  },
  {
   "cell_type": "markdown",
   "id": "6caa6234",
   "metadata": {},
   "source": [
    "Here is another example where we match any string that is followed by two digits or \"ZZ\", a hyphen, and then the string \"FOXTROT\". "
   ]
  },
  {
   "cell_type": "code",
   "execution_count": null,
   "id": "188c7ab8",
   "metadata": {},
   "outputs": [],
   "source": [
    "fullmatch(pattern=\"([0-9]{2}|ZZ)-FOXTROT\", string=\"12-FOXTROT\") != None"
   ]
  },
  {
   "cell_type": "code",
   "execution_count": null,
   "id": "4e206bf6",
   "metadata": {},
   "outputs": [],
   "source": [
    "fullmatch(pattern=\"([0-9]{2}|ZZ)-FOXTROT\", string=\"ZZ-FOXTROT\") != None"
   ]
  },
  {
   "cell_type": "code",
   "execution_count": null,
   "id": "d6058d0a",
   "metadata": {},
   "outputs": [],
   "source": [
    "fullmatch(pattern=\"[0-9]{5}(-[0-9]{4})?\", string=\"75035-8564\")"
   ]
  },
  {
   "cell_type": "markdown",
   "id": "f2181a5f",
   "metadata": {},
   "source": [
    "You will find alternators are often used inside a group because it is common to switch between two or more patterns at a certain place in the regular expression. "
   ]
  },
  {
   "cell_type": "markdown",
   "id": "30332011",
   "metadata": {},
   "source": [
    "## Prefix and Suffix "
   ]
  },
  {
   "cell_type": "markdown",
   "id": "837ec265",
   "metadata": {},
   "source": [
    "Especially when you are scanning documents, it can be helpful to capture a regular expression pattern but not include a certain part of the pattern. This is where prefixes and suffixes can be helpful.\n",
    "\n",
    "Let's say I want to match a sequence of digits but only if they are preceded by an uppercase letter. I would specify the uppercase letter inside a prefix `(?<=[A-Z])` which would not be returned. However, the `[0-9]+` following it would but only if that prefix was met. "
   ]
  },
  {
   "cell_type": "code",
   "execution_count": null,
   "id": "1a936499",
   "metadata": {
    "scrolled": true
   },
   "outputs": [],
   "source": [
    "from re import search\n",
    "\n",
    "result = search(pattern=\"(?<=[A-Z])[0-9]+\", string=\"A23\")\n",
    "if result: \n",
    "    print(result[0])\n",
    "else:\n",
    "    print(\"No match\")"
   ]
  },
  {
   "cell_type": "code",
   "execution_count": null,
   "id": "c54d8388",
   "metadata": {},
   "outputs": [],
   "source": [
    "result = search(pattern=\"(?<=[A-Z])[0-9]+\", string=\"23\")\n",
    "if result: \n",
    "    print(result[0])\n",
    "else:\n",
    "    print(\"No match\")"
   ]
  },
  {
   "cell_type": "markdown",
   "id": "3f15c515",
   "metadata": {},
   "source": [
    "Notice how the `23` is the only result that is returned, even though it qualified the uppercase letter preceding it. That `?<=` that starts a group `(?<=` is what defines a prefix (also called a look-behind), and everything that follows it is the prefix pattern. \n",
    "\n",
    "You can also use a suffix to do a look-ahead, qualifying a pattern that's ahead but not including it. Below I match a sequence of digits but only if they are followed by an uppercase letter. "
   ]
  },
  {
   "cell_type": "code",
   "execution_count": null,
   "id": "93e59820",
   "metadata": {},
   "outputs": [],
   "source": [
    "result = search(pattern=\"[0-9]+(?=[A-Z])\", string=\"23\")\n",
    "if result: \n",
    "    print(result[0])\n",
    "else:\n",
    "    print(\"No match\")"
   ]
  },
  {
   "cell_type": "code",
   "execution_count": null,
   "id": "8bbb9153",
   "metadata": {},
   "outputs": [],
   "source": [
    "result = search(pattern=\"[0-9]+(?=[A-Z])\", string=\"23L\")\n",
    "if result: \n",
    "    print(result[0])\n",
    "else:\n",
    "    print(\"No match\")"
   ]
  },
  {
   "cell_type": "markdown",
   "id": "d0b90b6d",
   "metadata": {},
   "source": [
    "As we will learn, prefixes and suffixes can be helpful in splitting strings based on more complicated patterns. The downsides of the prefix and suffix is they can get whiny when you do not use fixed-width patterns. Therefore, do not expect the Python implementation of regular expressions to allow quantifiers in prefixes and suffixes. "
   ]
  },
  {
   "cell_type": "markdown",
   "id": "838fd2b3",
   "metadata": {},
   "source": [
    "## Exercise"
   ]
  },
  {
   "cell_type": "markdown",
   "id": "a95b404e",
   "metadata": {},
   "source": [
    "Write a regular expression that will match a United States zip code, which is 5 digits, followed by an optional hyphen then a sequence of 4 digits. \n",
    "\n",
    "Replace the question mark `?` below. "
   ]
  },
  {
   "cell_type": "code",
   "execution_count": null,
   "id": "e44a4726",
   "metadata": {},
   "outputs": [],
   "source": [
    "fullmatch(pattern=?, string=\"75035-3821\") != None"
   ]
  },
  {
   "cell_type": "markdown",
   "id": "a22cc7c7",
   "metadata": {},
   "source": [
    "### SCROLL DOWN FOR ANSWER\n",
    "|<br>\n",
    "|<br>\n",
    "|<br>\n",
    "|<br>\n",
    "|<br>\n",
    "|<br>\n",
    "|<br>\n",
    "|<br>\n",
    "|<br>\n",
    "|<br>\n",
    "|<br>\n",
    "|<br>\n",
    "|<br>\n",
    "|<br>\n",
    "|<br>\n",
    "|<br>\n",
    "|<br>\n",
    "|<br>\n",
    "|<br>\n",
    "|<br>\n",
    "|<br>\n",
    "|<br>\n",
    "|<br>\n",
    "v "
   ]
  },
  {
   "cell_type": "code",
   "execution_count": null,
   "id": "4bf8fade",
   "metadata": {
    "scrolled": true
   },
   "outputs": [],
   "source": [
    "fullmatch(pattern=\"[0-9]{5}(-[0-9]{4})?\", string=\"75035-3821\") != None"
   ]
  },
  {
   "cell_type": "code",
   "execution_count": null,
   "id": "137e3263",
   "metadata": {
    "scrolled": true
   },
   "outputs": [],
   "source": [
    "fullmatch(pattern=\"[0-9]{5}(-[0-9]{4})?\", string=\"75035\") != None"
   ]
  }
 ],
 "metadata": {
  "kernelspec": {
   "display_name": "Python 3 (ipykernel)",
   "language": "python",
   "name": "python3"
  },
  "language_info": {
   "codemirror_mode": {
    "name": "ipython",
    "version": 3
   },
   "file_extension": ".py",
   "mimetype": "text/x-python",
   "name": "python",
   "nbconvert_exporter": "python",
   "pygments_lexer": "ipython3",
   "version": "3.12.2"
  }
 },
 "nbformat": 4,
 "nbformat_minor": 5
}
