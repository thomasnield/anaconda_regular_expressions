{
 "cells": [
  {
   "cell_type": "markdown",
   "id": "440de20c",
   "metadata": {},
   "source": [
    "# Searching, Splitting, and Replacing Text "
   ]
  },
  {
   "cell_type": "markdown",
   "id": "0a7be22a",
   "metadata": {},
   "source": [
    "In the previous sections we mastered the fundamentals of regular expressions. Now let's see how we can use this knowledge to accomplish some common tasks."
   ]
  },
  {
   "cell_type": "markdown",
   "id": "1821b883",
   "metadata": {},
   "source": [
    "## Compiling a Regex"
   ]
  },
  {
   "cell_type": "markdown",
   "id": "e7b0aac6",
   "metadata": {},
   "source": [
    "Previously we used shorthand functions like `match`, `fullmatch`, and `search` from the `re` package. While these are fine for one-off matches, there will be situations where you want to reuse a regular expression. A regular expression actually has to be compiled as a mini-program, meaning they can be expensive to set up and use. This is why when you intend to use a regular expression multiple times you will want to compile and save it. \n",
    "\n",
    "Below we compile a regular expression that looks for websites that may be `http` or `https` and end with `.com`, `.org,` or `.gov`. "
   ]
  },
  {
   "cell_type": "code",
   "execution_count": 12,
   "id": "f3d8513a",
   "metadata": {},
   "outputs": [],
   "source": [
    "import re\n",
    "\n",
    "web_pattern = re.compile(r'(https?://)?(www\\.)?([a-z0-9]+)\\.(com|org|gov)')"
   ]
  },
  {
   "cell_type": "markdown",
   "id": "c67698e1",
   "metadata": {},
   "source": [
    "We can now use this compiled and reusable `Pattern` object for multiple tasks. We can, for example, pass it to a `pattern` argument in place of a string. This way `fullmatch` will not waste any time doing compilation. "
   ]
  },
  {
   "cell_type": "code",
   "execution_count": 14,
   "id": "2d31172a",
   "metadata": {},
   "outputs": [
    {
     "data": {
      "text/plain": [
       "True"
      ]
     },
     "execution_count": 14,
     "metadata": {},
     "output_type": "execute_result"
    }
   ],
   "source": [
    "re.fullmatch(pattern=web_pattern, string=\"https://www.anaconda.com\") != None "
   ]
  },
  {
   "cell_type": "markdown",
   "id": "6ed04fa3",
   "metadata": {},
   "source": [
    "## Scanning a Document"
   ]
  },
  {
   "cell_type": "markdown",
   "id": "85c69053",
   "metadata": {},
   "source": [
    "If we imported a document into a string, we can use the `finditer()` function on a `Pattern` object to find multiple [`Match` objects](https://docs.python.org/3/library/re.html#re.Match) in that document. We can take those results and iterate them in a `for` loop. "
   ]
  },
  {
   "cell_type": "code",
   "execution_count": 15,
   "id": "36c356c7",
   "metadata": {},
   "outputs": [
    {
     "name": "stdout",
     "output_type": "stream",
     "text": [
      "https://www.yawmanflight.com\n",
      "http://microsoft.com\n",
      "https://youtube.com\n",
      "https://www.anaconda.com\n",
      "https://www.python.org\n",
      "https://whitehouse.gov\n"
     ]
    }
   ],
   "source": [
    "urls = \"\"\"\n",
    "Here are a few websites below: \n",
    "\n",
    "https://www.yawmanflight.com\n",
    "http://microsoft.com\n",
    "https://youtube.com\n",
    "https://www.anaconda.com\n",
    "\n",
    "These are non-commercial sites: \n",
    "https://www.python.org\n",
    "https://whitehouse.gov \n",
    "\"\"\"\n",
    "\n",
    "matches = web_pattern.finditer(urls)\n",
    "\n",
    "for match in matches:\n",
    "    print(match[0])\n",
    "\n"
   ]
  },
  {
   "cell_type": "markdown",
   "id": "6477d637",
   "metadata": {},
   "source": [
    "Something that is interesting is `match[0]` will return the full match. But indices after that will return the group match as indexed by each pair of parantheses `( )`. For example, the fourth group of parantheses `(com|org|gov)` in our pattern will return that web domain. We can access it using `match[4]`. "
   ]
  },
  {
   "cell_type": "code",
   "execution_count": 19,
   "id": "0fd84373",
   "metadata": {},
   "outputs": [
    {
     "name": "stdout",
     "output_type": "stream",
     "text": [
      "com\n",
      "com\n",
      "com\n",
      "com\n",
      "org\n",
      "gov\n"
     ]
    }
   ],
   "source": [
    "matches = web_pattern.finditer(urls)\n",
    "\n",
    "for match in matches:\n",
    "    print(match[4])"
   ]
  },
  {
   "cell_type": "markdown",
   "id": "6b208dfe",
   "metadata": {},
   "source": [
    "Read more in the [Match object documentation](https://docs.python.org/3/library/re.html#re.Match) to learn about other methods available. "
   ]
  },
  {
   "cell_type": "markdown",
   "id": "6f827666",
   "metadata": {},
   "source": [
    "## Splitting"
   ]
  },
  {
   "cell_type": "markdown",
   "id": "a45cfca4",
   "metadata": {},
   "source": [
    "Regular expressions can offer some interesting capabilities when it comes to splitting data. \n",
    "\n",
    "Let's load up the famous machine learning Iris dataset. While typically we would use Pandas to load tabular data (which we will discuss in the next section), let's learn a few tricks from scratch. "
   ]
  },
  {
   "cell_type": "code",
   "execution_count": 21,
   "id": "8f1beb1a",
   "metadata": {},
   "outputs": [
    {
     "name": "stdout",
     "output_type": "stream",
     "text": [
      "sepal_length,sepal_width,petal_length,petal_width,species\n",
      "5.1,3.5,1.4,0.2,setosa\n",
      "4.9,3.0,1.4,0.2,setosa\n",
      "4.7,3.2,1.3,0.2,setosa\n",
      "4.6,3.1,1.5,0.2,setosa\n",
      "5.0,3.6,1.4,0.2,setosa\n",
      "5.4,3.9,1.7,0.4,setosa\n",
      "4.6,3.4,1.4,0.3,setosa\n",
      "5.0,3.4,1.5,0.2,setosa\n",
      "4.4,2.9,1.4,0.2,setosa\n",
      "4.9,3.1,1.5,0.1,setosa\n",
      "5.4,3.7,1.5,0.2,setosa\n",
      "4.8,3.4,1.6,0.2,setosa\n",
      "4.8,3.0,1.4,0.1,setosa\n",
      "4.3,3.0,1.1,0.1,setosa\n",
      "5.8,4.0,1.2,0.2,setosa\n",
      "5.7,4.4,1.5,0.4,setosa\n",
      "5.4,3.9,1.3,0.4,setosa\n",
      "5.1,3.5,1.4,0.3,setosa\n",
      "5.7,3.8,1.7,0.3,setosa\n",
      "5.1,3.8,1.5,0.3,setosa\n",
      "5.4,3.4,1.7,0.2,setosa\n",
      "5.1,3.7,1.5,0.4,setosa\n",
      "4.6,3.6,1.0,0.2,setosa\n",
      "5.1,3.3,1.7,0.5,setosa\n",
      "4.8,3.4,1.9,0.2,setosa\n",
      "5.0,3.0,1.6,0.2,setosa\n",
      "5.0,3.4,1.6,0.4,setosa\n",
      "5.2,3.5,1.5,0.2,setosa\n",
      "5.2,3.4,1.4,0.2,setosa\n",
      "4.7,3.2,1.6,0.2,setosa\n",
      "4.8,3.1,1.6,0.2,setosa\n",
      "5.4,3.4,1.5,0.4,setosa\n",
      "5.2,4.1,1.5,0.1,setosa\n",
      "5.5,4.2,1.4,0.2,setosa\n",
      "4.9,3.1,1.5,0.1,setosa\n",
      "5.0,3.2,1.2,0.2,setosa\n",
      "5.5,3.5,1.3,0.2,setosa\n",
      "4.9,3.1,1.5,0.1,setosa\n",
      "4.4,3.0,1.3,0.2,setosa\n",
      "5.1,3.4,1.5,0.2,setosa\n",
      "5.0,3.5,1.3,0.3,setosa\n",
      "4.5,2.3,1.3,0.3,setosa\n",
      "4.4,3.2,1.3,0.2,setosa\n",
      "5.0,3.5,1.6,0.6,setosa\n",
      "5.1,3.8,1.9,0.4,setosa\n",
      "4.8,3.0,1.4,0.3,setosa\n",
      "5.1,3.8,1.6,0.2,setosa\n",
      "4.6,3.2,1.4,0.2,setosa\n",
      "5.3,3.7,1.5,0.2,setosa\n",
      "5.0,3.3,1.4,0.2,setosa\n",
      "7.0,3.2,4.7,1.4,versicolor\n",
      "6.4,3.2,4.5,1.5,versicolor\n",
      "6.9,3.1,4.9,1.5,versicolor\n",
      "5.5,2.3,4.0,1.3,versicolor\n",
      "6.5,2.8,4.6,1.5,versicolor\n",
      "5.7,2.8,4.5,1.3,versicolor\n",
      "6.3,3.3,4.7,1.6,versicolor\n",
      "4.9,2.4,3.3,1.0,versicolor\n",
      "6.6,2.9,4.6,1.3,versicolor\n",
      "5.2,2.7,3.9,1.4,versicolor\n",
      "5.0,2.0,3.5,1.0,versicolor\n",
      "5.9,3.0,4.2,1.5,versicolor\n",
      "6.0,2.2,4.0,1.0,versicolor\n",
      "6.1,2.9,4.7,1.4,versicolor\n",
      "5.6,2.9,3.6,1.3,versicolor\n",
      "6.7,3.1,4.4,1.4,versicolor\n",
      "5.6,3.0,4.5,1.5,versicolor\n",
      "5.8,2.7,4.1,1.0,versicolor\n",
      "6.2,2.2,4.5,1.5,versicolor\n",
      "5.6,2.5,3.9,1.1,versicolor\n",
      "5.9,3.2,4.8,1.8,versicolor\n",
      "6.1,2.8,4.0,1.3,versicolor\n",
      "6.3,2.5,4.9,1.5,versicolor\n",
      "6.1,2.8,4.7,1.2,versicolor\n",
      "6.4,2.9,4.3,1.3,versicolor\n",
      "6.6,3.0,4.4,1.4,versicolor\n",
      "6.8,2.8,4.8,1.4,versicolor\n",
      "6.7,3.0,5.0,1.7,versicolor\n",
      "6.0,2.9,4.5,1.5,versicolor\n",
      "5.7,2.6,3.5,1.0,versicolor\n",
      "5.5,2.4,3.8,1.1,versicolor\n",
      "5.5,2.4,3.7,1.0,versicolor\n",
      "5.8,2.7,3.9,1.2,versicolor\n",
      "6.0,2.7,5.1,1.6,versicolor\n",
      "5.4,3.0,4.5,1.5,versicolor\n",
      "6.0,3.4,4.5,1.6,versicolor\n",
      "6.7,3.1,4.7,1.5,versicolor\n",
      "6.3,2.3,4.4,1.3,versicolor\n",
      "5.6,3.0,4.1,1.3,versicolor\n",
      "5.5,2.5,4.0,1.3,versicolor\n",
      "5.5,2.6,4.4,1.2,versicolor\n",
      "6.1,3.0,4.6,1.4,versicolor\n",
      "5.8,2.6,4.0,1.2,versicolor\n",
      "5.0,2.3,3.3,1.0,versicolor\n",
      "5.6,2.7,4.2,1.3,versicolor\n",
      "5.7,3.0,4.2,1.2,versicolor\n",
      "5.7,2.9,4.2,1.3,versicolor\n",
      "6.2,2.9,4.3,1.3,versicolor\n",
      "5.1,2.5,3.0,1.1,versicolor\n",
      "5.7,2.8,4.1,1.3,versicolor\n",
      "6.3,3.3,6.0,2.5,virginica\n",
      "5.8,2.7,5.1,1.9,virginica\n",
      "7.1,3.0,5.9,2.1,virginica\n",
      "6.3,2.9,5.6,1.8,virginica\n",
      "6.5,3.0,5.8,2.2,virginica\n",
      "7.6,3.0,6.6,2.1,virginica\n",
      "4.9,2.5,4.5,1.7,virginica\n",
      "7.3,2.9,6.3,1.8,virginica\n",
      "6.7,2.5,5.8,1.8,virginica\n",
      "7.2,3.6,6.1,2.5,virginica\n",
      "6.5,3.2,5.1,2.0,virginica\n",
      "6.4,2.7,5.3,1.9,virginica\n",
      "6.8,3.0,5.5,2.1,virginica\n",
      "5.7,2.5,5.0,2.0,virginica\n",
      "5.8,2.8,5.1,2.4,virginica\n",
      "6.4,3.2,5.3,2.3,virginica\n",
      "6.5,3.0,5.5,1.8,virginica\n",
      "7.7,3.8,6.7,2.2,virginica\n",
      "7.7,2.6,6.9,2.3,virginica\n",
      "6.0,2.2,5.0,1.5,virginica\n",
      "6.9,3.2,5.7,2.3,virginica\n",
      "5.6,2.8,4.9,2.0,virginica\n",
      "7.7,2.8,6.7,2.0,virginica\n",
      "6.3,2.7,4.9,1.8,virginica\n",
      "6.7,3.3,5.7,2.1,virginica\n",
      "7.2,3.2,6.0,1.8,virginica\n",
      "6.2,2.8,4.8,1.8,virginica\n",
      "6.1,3.0,4.9,1.8,virginica\n",
      "6.4,2.8,5.6,2.1,virginica\n",
      "7.2,3.0,5.8,1.6,virginica\n",
      "7.4,2.8,6.1,1.9,virginica\n",
      "7.9,3.8,6.4,2.0,virginica\n",
      "6.4,2.8,5.6,2.2,virginica\n",
      "6.3,2.8,5.1,1.5,virginica\n",
      "6.1,2.6,5.6,1.4,virginica\n",
      "7.7,3.0,6.1,2.3,virginica\n",
      "6.3,3.4,5.6,2.4,virginica\n",
      "6.4,3.1,5.5,1.8,virginica\n",
      "6.0,3.0,4.8,1.8,virginica\n",
      "6.9,3.1,5.4,2.1,virginica\n",
      "6.7,3.1,5.6,2.4,virginica\n",
      "6.9,3.1,5.1,2.3,virginica\n",
      "5.8,2.7,5.1,1.9,virginica\n",
      "6.8,3.2,5.9,2.3,virginica\n",
      "6.7,3.3,5.7,2.5,virginica\n",
      "6.7,3.0,5.2,2.3,virginica\n",
      "6.3,2.5,5.0,1.9,virginica\n",
      "6.5,3.0,5.2,2.0,virginica\n",
      "6.2,3.4,5.4,2.3,virginica\n",
      "5.9,3.0,5.1,1.8,virginica\n",
      "\n"
     ]
    }
   ],
   "source": [
    "import urllib.request\n",
    "\n",
    "urllib.request.urlretrieve(\n",
    "    r\"https://raw.githubusercontent.com/thomasnield/machine-learning-demo-data/master/classification/iris.csv\",\n",
    "    \"iris.csv\"\n",
    ")\n",
    "\n",
    "filename = 'iris.csv' \n",
    "file = open(filename, encoding=\"utf-8\")\n",
    "text = file.read()\n",
    "file.close()\n",
    "print(text)"
   ]
  },
  {
   "cell_type": "markdown",
   "id": "ad9383c7",
   "metadata": {},
   "source": [
    "So we loaded that entire dataset into a single string `text`. It is common to split on new lines followed by comma separated values for each row. "
   ]
  },
  {
   "cell_type": "code",
   "execution_count": 28,
   "id": "4cbf8d48",
   "metadata": {},
   "outputs": [
    {
     "name": "stdout",
     "output_type": "stream",
     "text": [
      "['sepal_length', 'sepal_width', 'petal_length', 'petal_width', 'species']\n",
      "['5.1', '3.5', '1.4', '0.2', 'setosa']\n",
      "['4.9', '3.0', '1.4', '0.2', 'setosa']\n",
      "['4.7', '3.2', '1.3', '0.2', 'setosa']\n",
      "['4.6', '3.1', '1.5', '0.2', 'setosa']\n",
      "['5.0', '3.6', '1.4', '0.2', 'setosa']\n",
      "['5.4', '3.9', '1.7', '0.4', 'setosa']\n",
      "['4.6', '3.4', '1.4', '0.3', 'setosa']\n",
      "['5.0', '3.4', '1.5', '0.2', 'setosa']\n",
      "['4.4', '2.9', '1.4', '0.2', 'setosa']\n",
      "['4.9', '3.1', '1.5', '0.1', 'setosa']\n",
      "['5.4', '3.7', '1.5', '0.2', 'setosa']\n",
      "['4.8', '3.4', '1.6', '0.2', 'setosa']\n",
      "['4.8', '3.0', '1.4', '0.1', 'setosa']\n",
      "['4.3', '3.0', '1.1', '0.1', 'setosa']\n",
      "['5.8', '4.0', '1.2', '0.2', 'setosa']\n",
      "['5.7', '4.4', '1.5', '0.4', 'setosa']\n",
      "['5.4', '3.9', '1.3', '0.4', 'setosa']\n",
      "['5.1', '3.5', '1.4', '0.3', 'setosa']\n",
      "['5.7', '3.8', '1.7', '0.3', 'setosa']\n",
      "['5.1', '3.8', '1.5', '0.3', 'setosa']\n",
      "['5.4', '3.4', '1.7', '0.2', 'setosa']\n",
      "['5.1', '3.7', '1.5', '0.4', 'setosa']\n",
      "['4.6', '3.6', '1.0', '0.2', 'setosa']\n",
      "['5.1', '3.3', '1.7', '0.5', 'setosa']\n",
      "['4.8', '3.4', '1.9', '0.2', 'setosa']\n",
      "['5.0', '3.0', '1.6', '0.2', 'setosa']\n",
      "['5.0', '3.4', '1.6', '0.4', 'setosa']\n",
      "['5.2', '3.5', '1.5', '0.2', 'setosa']\n",
      "['5.2', '3.4', '1.4', '0.2', 'setosa']\n",
      "['4.7', '3.2', '1.6', '0.2', 'setosa']\n",
      "['4.8', '3.1', '1.6', '0.2', 'setosa']\n",
      "['5.4', '3.4', '1.5', '0.4', 'setosa']\n",
      "['5.2', '4.1', '1.5', '0.1', 'setosa']\n",
      "['5.5', '4.2', '1.4', '0.2', 'setosa']\n",
      "['4.9', '3.1', '1.5', '0.1', 'setosa']\n",
      "['5.0', '3.2', '1.2', '0.2', 'setosa']\n",
      "['5.5', '3.5', '1.3', '0.2', 'setosa']\n",
      "['4.9', '3.1', '1.5', '0.1', 'setosa']\n",
      "['4.4', '3.0', '1.3', '0.2', 'setosa']\n",
      "['5.1', '3.4', '1.5', '0.2', 'setosa']\n",
      "['5.0', '3.5', '1.3', '0.3', 'setosa']\n",
      "['4.5', '2.3', '1.3', '0.3', 'setosa']\n",
      "['4.4', '3.2', '1.3', '0.2', 'setosa']\n",
      "['5.0', '3.5', '1.6', '0.6', 'setosa']\n",
      "['5.1', '3.8', '1.9', '0.4', 'setosa']\n",
      "['4.8', '3.0', '1.4', '0.3', 'setosa']\n",
      "['5.1', '3.8', '1.6', '0.2', 'setosa']\n",
      "['4.6', '3.2', '1.4', '0.2', 'setosa']\n",
      "['5.3', '3.7', '1.5', '0.2', 'setosa']\n",
      "['5.0', '3.3', '1.4', '0.2', 'setosa']\n",
      "['7.0', '3.2', '4.7', '1.4', 'versicolor']\n",
      "['6.4', '3.2', '4.5', '1.5', 'versicolor']\n",
      "['6.9', '3.1', '4.9', '1.5', 'versicolor']\n",
      "['5.5', '2.3', '4.0', '1.3', 'versicolor']\n",
      "['6.5', '2.8', '4.6', '1.5', 'versicolor']\n",
      "['5.7', '2.8', '4.5', '1.3', 'versicolor']\n",
      "['6.3', '3.3', '4.7', '1.6', 'versicolor']\n",
      "['4.9', '2.4', '3.3', '1.0', 'versicolor']\n",
      "['6.6', '2.9', '4.6', '1.3', 'versicolor']\n",
      "['5.2', '2.7', '3.9', '1.4', 'versicolor']\n",
      "['5.0', '2.0', '3.5', '1.0', 'versicolor']\n",
      "['5.9', '3.0', '4.2', '1.5', 'versicolor']\n",
      "['6.0', '2.2', '4.0', '1.0', 'versicolor']\n",
      "['6.1', '2.9', '4.7', '1.4', 'versicolor']\n",
      "['5.6', '2.9', '3.6', '1.3', 'versicolor']\n",
      "['6.7', '3.1', '4.4', '1.4', 'versicolor']\n",
      "['5.6', '3.0', '4.5', '1.5', 'versicolor']\n",
      "['5.8', '2.7', '4.1', '1.0', 'versicolor']\n",
      "['6.2', '2.2', '4.5', '1.5', 'versicolor']\n",
      "['5.6', '2.5', '3.9', '1.1', 'versicolor']\n",
      "['5.9', '3.2', '4.8', '1.8', 'versicolor']\n",
      "['6.1', '2.8', '4.0', '1.3', 'versicolor']\n",
      "['6.3', '2.5', '4.9', '1.5', 'versicolor']\n",
      "['6.1', '2.8', '4.7', '1.2', 'versicolor']\n",
      "['6.4', '2.9', '4.3', '1.3', 'versicolor']\n",
      "['6.6', '3.0', '4.4', '1.4', 'versicolor']\n",
      "['6.8', '2.8', '4.8', '1.4', 'versicolor']\n",
      "['6.7', '3.0', '5.0', '1.7', 'versicolor']\n",
      "['6.0', '2.9', '4.5', '1.5', 'versicolor']\n",
      "['5.7', '2.6', '3.5', '1.0', 'versicolor']\n",
      "['5.5', '2.4', '3.8', '1.1', 'versicolor']\n",
      "['5.5', '2.4', '3.7', '1.0', 'versicolor']\n",
      "['5.8', '2.7', '3.9', '1.2', 'versicolor']\n",
      "['6.0', '2.7', '5.1', '1.6', 'versicolor']\n",
      "['5.4', '3.0', '4.5', '1.5', 'versicolor']\n",
      "['6.0', '3.4', '4.5', '1.6', 'versicolor']\n",
      "['6.7', '3.1', '4.7', '1.5', 'versicolor']\n",
      "['6.3', '2.3', '4.4', '1.3', 'versicolor']\n",
      "['5.6', '3.0', '4.1', '1.3', 'versicolor']\n",
      "['5.5', '2.5', '4.0', '1.3', 'versicolor']\n",
      "['5.5', '2.6', '4.4', '1.2', 'versicolor']\n",
      "['6.1', '3.0', '4.6', '1.4', 'versicolor']\n",
      "['5.8', '2.6', '4.0', '1.2', 'versicolor']\n",
      "['5.0', '2.3', '3.3', '1.0', 'versicolor']\n",
      "['5.6', '2.7', '4.2', '1.3', 'versicolor']\n",
      "['5.7', '3.0', '4.2', '1.2', 'versicolor']\n",
      "['5.7', '2.9', '4.2', '1.3', 'versicolor']\n",
      "['6.2', '2.9', '4.3', '1.3', 'versicolor']\n",
      "['5.1', '2.5', '3.0', '1.1', 'versicolor']\n",
      "['5.7', '2.8', '4.1', '1.3', 'versicolor']\n",
      "['6.3', '3.3', '6.0', '2.5', 'virginica']\n",
      "['5.8', '2.7', '5.1', '1.9', 'virginica']\n",
      "['7.1', '3.0', '5.9', '2.1', 'virginica']\n",
      "['6.3', '2.9', '5.6', '1.8', 'virginica']\n",
      "['6.5', '3.0', '5.8', '2.2', 'virginica']\n",
      "['7.6', '3.0', '6.6', '2.1', 'virginica']\n",
      "['4.9', '2.5', '4.5', '1.7', 'virginica']\n",
      "['7.3', '2.9', '6.3', '1.8', 'virginica']\n",
      "['6.7', '2.5', '5.8', '1.8', 'virginica']\n",
      "['7.2', '3.6', '6.1', '2.5', 'virginica']\n",
      "['6.5', '3.2', '5.1', '2.0', 'virginica']\n",
      "['6.4', '2.7', '5.3', '1.9', 'virginica']\n",
      "['6.8', '3.0', '5.5', '2.1', 'virginica']\n",
      "['5.7', '2.5', '5.0', '2.0', 'virginica']\n",
      "['5.8', '2.8', '5.1', '2.4', 'virginica']\n",
      "['6.4', '3.2', '5.3', '2.3', 'virginica']\n",
      "['6.5', '3.0', '5.5', '1.8', 'virginica']\n",
      "['7.7', '3.8', '6.7', '2.2', 'virginica']\n",
      "['7.7', '2.6', '6.9', '2.3', 'virginica']\n",
      "['6.0', '2.2', '5.0', '1.5', 'virginica']\n",
      "['6.9', '3.2', '5.7', '2.3', 'virginica']\n",
      "['5.6', '2.8', '4.9', '2.0', 'virginica']\n",
      "['7.7', '2.8', '6.7', '2.0', 'virginica']\n",
      "['6.3', '2.7', '4.9', '1.8', 'virginica']\n",
      "['6.7', '3.3', '5.7', '2.1', 'virginica']\n",
      "['7.2', '3.2', '6.0', '1.8', 'virginica']\n",
      "['6.2', '2.8', '4.8', '1.8', 'virginica']\n",
      "['6.1', '3.0', '4.9', '1.8', 'virginica']\n",
      "['6.4', '2.8', '5.6', '2.1', 'virginica']\n",
      "['7.2', '3.0', '5.8', '1.6', 'virginica']\n",
      "['7.4', '2.8', '6.1', '1.9', 'virginica']\n",
      "['7.9', '3.8', '6.4', '2.0', 'virginica']\n",
      "['6.4', '2.8', '5.6', '2.2', 'virginica']\n",
      "['6.3', '2.8', '5.1', '1.5', 'virginica']\n",
      "['6.1', '2.6', '5.6', '1.4', 'virginica']\n",
      "['7.7', '3.0', '6.1', '2.3', 'virginica']\n",
      "['6.3', '3.4', '5.6', '2.4', 'virginica']\n",
      "['6.4', '3.1', '5.5', '1.8', 'virginica']\n",
      "['6.0', '3.0', '4.8', '1.8', 'virginica']\n",
      "['6.9', '3.1', '5.4', '2.1', 'virginica']\n",
      "['6.7', '3.1', '5.6', '2.4', 'virginica']\n",
      "['6.9', '3.1', '5.1', '2.3', 'virginica']\n",
      "['5.8', '2.7', '5.1', '1.9', 'virginica']\n",
      "['6.8', '3.2', '5.9', '2.3', 'virginica']\n",
      "['6.7', '3.3', '5.7', '2.5', 'virginica']\n",
      "['6.7', '3.0', '5.2', '2.3', 'virginica']\n",
      "['6.3', '2.5', '5.0', '1.9', 'virginica']\n",
      "['6.5', '3.0', '5.2', '2.0', 'virginica']\n",
      "['6.2', '3.4', '5.4', '2.3', 'virginica']\n",
      "['5.9', '3.0', '5.1', '1.8', 'virginica']\n",
      "['']\n"
     ]
    }
   ],
   "source": [
    "for row in text.split(\"\\n\"):\n",
    "    print(row.split(\",\"))"
   ]
  },
  {
   "cell_type": "markdown",
   "id": "ddfc49f6",
   "metadata": {},
   "source": [
    "But what if we wanted to only separate the last column with the species? There is an opportunity to use a regular expression as our separator. We can use a `,` followed by a suffix `(?=[a-z]+$)` to match only commas that are followed by lowercase alphabetic characters `[a-z]+` and then an end-of-string `$`. "
   ]
  },
  {
   "cell_type": "code",
   "execution_count": 41,
   "id": "f316abfa",
   "metadata": {},
   "outputs": [
    {
     "name": "stdout",
     "output_type": "stream",
     "text": [
      "['sepal_length,sepal_width,petal_length,petal_width', 'species']\n",
      "['5.1,3.5,1.4,0.2', 'setosa']\n",
      "['4.9,3.0,1.4,0.2', 'setosa']\n",
      "['4.7,3.2,1.3,0.2', 'setosa']\n",
      "['4.6,3.1,1.5,0.2', 'setosa']\n",
      "['5.0,3.6,1.4,0.2', 'setosa']\n",
      "['5.4,3.9,1.7,0.4', 'setosa']\n",
      "['4.6,3.4,1.4,0.3', 'setosa']\n",
      "['5.0,3.4,1.5,0.2', 'setosa']\n",
      "['4.4,2.9,1.4,0.2', 'setosa']\n",
      "['4.9,3.1,1.5,0.1', 'setosa']\n",
      "['5.4,3.7,1.5,0.2', 'setosa']\n",
      "['4.8,3.4,1.6,0.2', 'setosa']\n",
      "['4.8,3.0,1.4,0.1', 'setosa']\n",
      "['4.3,3.0,1.1,0.1', 'setosa']\n",
      "['5.8,4.0,1.2,0.2', 'setosa']\n",
      "['5.7,4.4,1.5,0.4', 'setosa']\n",
      "['5.4,3.9,1.3,0.4', 'setosa']\n",
      "['5.1,3.5,1.4,0.3', 'setosa']\n",
      "['5.7,3.8,1.7,0.3', 'setosa']\n",
      "['5.1,3.8,1.5,0.3', 'setosa']\n",
      "['5.4,3.4,1.7,0.2', 'setosa']\n",
      "['5.1,3.7,1.5,0.4', 'setosa']\n",
      "['4.6,3.6,1.0,0.2', 'setosa']\n",
      "['5.1,3.3,1.7,0.5', 'setosa']\n",
      "['4.8,3.4,1.9,0.2', 'setosa']\n",
      "['5.0,3.0,1.6,0.2', 'setosa']\n",
      "['5.0,3.4,1.6,0.4', 'setosa']\n",
      "['5.2,3.5,1.5,0.2', 'setosa']\n",
      "['5.2,3.4,1.4,0.2', 'setosa']\n",
      "['4.7,3.2,1.6,0.2', 'setosa']\n",
      "['4.8,3.1,1.6,0.2', 'setosa']\n",
      "['5.4,3.4,1.5,0.4', 'setosa']\n",
      "['5.2,4.1,1.5,0.1', 'setosa']\n",
      "['5.5,4.2,1.4,0.2', 'setosa']\n",
      "['4.9,3.1,1.5,0.1', 'setosa']\n",
      "['5.0,3.2,1.2,0.2', 'setosa']\n",
      "['5.5,3.5,1.3,0.2', 'setosa']\n",
      "['4.9,3.1,1.5,0.1', 'setosa']\n",
      "['4.4,3.0,1.3,0.2', 'setosa']\n",
      "['5.1,3.4,1.5,0.2', 'setosa']\n",
      "['5.0,3.5,1.3,0.3', 'setosa']\n",
      "['4.5,2.3,1.3,0.3', 'setosa']\n",
      "['4.4,3.2,1.3,0.2', 'setosa']\n",
      "['5.0,3.5,1.6,0.6', 'setosa']\n",
      "['5.1,3.8,1.9,0.4', 'setosa']\n",
      "['4.8,3.0,1.4,0.3', 'setosa']\n",
      "['5.1,3.8,1.6,0.2', 'setosa']\n",
      "['4.6,3.2,1.4,0.2', 'setosa']\n",
      "['5.3,3.7,1.5,0.2', 'setosa']\n",
      "['5.0,3.3,1.4,0.2', 'setosa']\n",
      "['7.0,3.2,4.7,1.4', 'versicolor']\n",
      "['6.4,3.2,4.5,1.5', 'versicolor']\n",
      "['6.9,3.1,4.9,1.5', 'versicolor']\n",
      "['5.5,2.3,4.0,1.3', 'versicolor']\n",
      "['6.5,2.8,4.6,1.5', 'versicolor']\n",
      "['5.7,2.8,4.5,1.3', 'versicolor']\n",
      "['6.3,3.3,4.7,1.6', 'versicolor']\n",
      "['4.9,2.4,3.3,1.0', 'versicolor']\n",
      "['6.6,2.9,4.6,1.3', 'versicolor']\n",
      "['5.2,2.7,3.9,1.4', 'versicolor']\n",
      "['5.0,2.0,3.5,1.0', 'versicolor']\n",
      "['5.9,3.0,4.2,1.5', 'versicolor']\n",
      "['6.0,2.2,4.0,1.0', 'versicolor']\n",
      "['6.1,2.9,4.7,1.4', 'versicolor']\n",
      "['5.6,2.9,3.6,1.3', 'versicolor']\n",
      "['6.7,3.1,4.4,1.4', 'versicolor']\n",
      "['5.6,3.0,4.5,1.5', 'versicolor']\n",
      "['5.8,2.7,4.1,1.0', 'versicolor']\n",
      "['6.2,2.2,4.5,1.5', 'versicolor']\n",
      "['5.6,2.5,3.9,1.1', 'versicolor']\n",
      "['5.9,3.2,4.8,1.8', 'versicolor']\n",
      "['6.1,2.8,4.0,1.3', 'versicolor']\n",
      "['6.3,2.5,4.9,1.5', 'versicolor']\n",
      "['6.1,2.8,4.7,1.2', 'versicolor']\n",
      "['6.4,2.9,4.3,1.3', 'versicolor']\n",
      "['6.6,3.0,4.4,1.4', 'versicolor']\n",
      "['6.8,2.8,4.8,1.4', 'versicolor']\n",
      "['6.7,3.0,5.0,1.7', 'versicolor']\n",
      "['6.0,2.9,4.5,1.5', 'versicolor']\n",
      "['5.7,2.6,3.5,1.0', 'versicolor']\n",
      "['5.5,2.4,3.8,1.1', 'versicolor']\n",
      "['5.5,2.4,3.7,1.0', 'versicolor']\n",
      "['5.8,2.7,3.9,1.2', 'versicolor']\n",
      "['6.0,2.7,5.1,1.6', 'versicolor']\n",
      "['5.4,3.0,4.5,1.5', 'versicolor']\n",
      "['6.0,3.4,4.5,1.6', 'versicolor']\n",
      "['6.7,3.1,4.7,1.5', 'versicolor']\n",
      "['6.3,2.3,4.4,1.3', 'versicolor']\n",
      "['5.6,3.0,4.1,1.3', 'versicolor']\n",
      "['5.5,2.5,4.0,1.3', 'versicolor']\n",
      "['5.5,2.6,4.4,1.2', 'versicolor']\n",
      "['6.1,3.0,4.6,1.4', 'versicolor']\n",
      "['5.8,2.6,4.0,1.2', 'versicolor']\n",
      "['5.0,2.3,3.3,1.0', 'versicolor']\n",
      "['5.6,2.7,4.2,1.3', 'versicolor']\n",
      "['5.7,3.0,4.2,1.2', 'versicolor']\n",
      "['5.7,2.9,4.2,1.3', 'versicolor']\n",
      "['6.2,2.9,4.3,1.3', 'versicolor']\n",
      "['5.1,2.5,3.0,1.1', 'versicolor']\n",
      "['5.7,2.8,4.1,1.3', 'versicolor']\n",
      "['6.3,3.3,6.0,2.5', 'virginica']\n",
      "['5.8,2.7,5.1,1.9', 'virginica']\n",
      "['7.1,3.0,5.9,2.1', 'virginica']\n",
      "['6.3,2.9,5.6,1.8', 'virginica']\n",
      "['6.5,3.0,5.8,2.2', 'virginica']\n",
      "['7.6,3.0,6.6,2.1', 'virginica']\n",
      "['4.9,2.5,4.5,1.7', 'virginica']\n",
      "['7.3,2.9,6.3,1.8', 'virginica']\n",
      "['6.7,2.5,5.8,1.8', 'virginica']\n",
      "['7.2,3.6,6.1,2.5', 'virginica']\n",
      "['6.5,3.2,5.1,2.0', 'virginica']\n",
      "['6.4,2.7,5.3,1.9', 'virginica']\n",
      "['6.8,3.0,5.5,2.1', 'virginica']\n",
      "['5.7,2.5,5.0,2.0', 'virginica']\n",
      "['5.8,2.8,5.1,2.4', 'virginica']\n",
      "['6.4,3.2,5.3,2.3', 'virginica']\n",
      "['6.5,3.0,5.5,1.8', 'virginica']\n",
      "['7.7,3.8,6.7,2.2', 'virginica']\n",
      "['7.7,2.6,6.9,2.3', 'virginica']\n",
      "['6.0,2.2,5.0,1.5', 'virginica']\n",
      "['6.9,3.2,5.7,2.3', 'virginica']\n",
      "['5.6,2.8,4.9,2.0', 'virginica']\n",
      "['7.7,2.8,6.7,2.0', 'virginica']\n",
      "['6.3,2.7,4.9,1.8', 'virginica']\n",
      "['6.7,3.3,5.7,2.1', 'virginica']\n",
      "['7.2,3.2,6.0,1.8', 'virginica']\n",
      "['6.2,2.8,4.8,1.8', 'virginica']\n",
      "['6.1,3.0,4.9,1.8', 'virginica']\n",
      "['6.4,2.8,5.6,2.1', 'virginica']\n",
      "['7.2,3.0,5.8,1.6', 'virginica']\n",
      "['7.4,2.8,6.1,1.9', 'virginica']\n",
      "['7.9,3.8,6.4,2.0', 'virginica']\n",
      "['6.4,2.8,5.6,2.2', 'virginica']\n",
      "['6.3,2.8,5.1,1.5', 'virginica']\n",
      "['6.1,2.6,5.6,1.4', 'virginica']\n",
      "['7.7,3.0,6.1,2.3', 'virginica']\n",
      "['6.3,3.4,5.6,2.4', 'virginica']\n",
      "['6.4,3.1,5.5,1.8', 'virginica']\n",
      "['6.0,3.0,4.8,1.8', 'virginica']\n",
      "['6.9,3.1,5.4,2.1', 'virginica']\n",
      "['6.7,3.1,5.6,2.4', 'virginica']\n",
      "['6.9,3.1,5.1,2.3', 'virginica']\n",
      "['5.8,2.7,5.1,1.9', 'virginica']\n",
      "['6.8,3.2,5.9,2.3', 'virginica']\n",
      "['6.7,3.3,5.7,2.5', 'virginica']\n",
      "['6.7,3.0,5.2,2.3', 'virginica']\n",
      "['6.3,2.5,5.0,1.9', 'virginica']\n",
      "['6.5,3.0,5.2,2.0', 'virginica']\n",
      "['6.2,3.4,5.4,2.3', 'virginica']\n",
      "['5.9,3.0,5.1,1.8', 'virginica']\n",
      "['']\n"
     ]
    }
   ],
   "source": [
    "split_pattern = re.compile(r\",(?=[a-z]+$)\")\n",
    "\n",
    "for row in text.split(\"\\n\"):\n",
    "    print(re.split(split_pattern, row))"
   ]
  },
  {
   "cell_type": "markdown",
   "id": "0e073b5b",
   "metadata": {},
   "source": [
    "Perfect! With regular expressions you can split strings on much more elaborate and context-driven separators. "
   ]
  },
  {
   "cell_type": "markdown",
   "id": "9982aece",
   "metadata": {},
   "source": [
    "## Replacing"
   ]
  },
  {
   "cell_type": "markdown",
   "id": "f07e5615",
   "metadata": {},
   "source": [
    "Let's return to our previous example with the websites. "
   ]
  },
  {
   "cell_type": "code",
   "execution_count": null,
   "id": "dfece09e",
   "metadata": {},
   "outputs": [],
   "source": [
    "urls = \"\"\"\n",
    "Here are a few websites below: \n",
    "\n",
    "https://www.yawmanflight.com\n",
    "http://microsoft.com\n",
    "https://youtube.com\n",
    "https://www.anaconda.com\n",
    "\n",
    "These are non-commercial sites: \n",
    "https://www.python.org\n",
    "https://whitehouse.gov \n",
    "\"\"\"\n",
    "\n",
    "matches = web_pattern.finditer(urls)\n",
    "\n",
    "for match in matches:\n",
    "    print(match[0])"
   ]
  },
  {
   "cell_type": "markdown",
   "id": "dd95fcea",
   "metadata": {},
   "source": [
    "Let's say we wanted to clean up the document and replace the `http` with `https`. Obviously we do not want to replace the `http` that already exists in existing `https` strings, so we will make sure it is not followed by an \"s\". this can be done using a suffix using a suffix `(?=[^s])`. "
   ]
  },
  {
   "cell_type": "code",
   "execution_count": 49,
   "id": "5dddfe86",
   "metadata": {},
   "outputs": [
    {
     "name": "stdout",
     "output_type": "stream",
     "text": [
      "\n",
      "Here are a few websites below: \n",
      "\n",
      "https://www.yawmanflight.com\n",
      "https://microsoft.com\n",
      "https://youtube.com\n",
      "https://www.anaconda.com\n",
      "\n",
      "These are non-commercial sites: \n",
      "https://www.python.org\n",
      "https://whitehouse.gov \n",
      "\n"
     ]
    }
   ],
   "source": [
    "fix_https = re.sub(pattern=\"http(?=[^s])\", \n",
    "                   repl=\"https\", \n",
    "                   string=urls)\n",
    "print(fix_https)"
   ]
  },
  {
   "cell_type": "markdown",
   "id": "bb8ba970",
   "metadata": {},
   "source": [
    "Note that there are [additional parameters](https://docs.python.org/3/library/re.html#re.sub) for flags as well as the `count` which is the maximum number of replacements to make. \n",
    "\n",
    "Now let's say we want to inject a `www.` where it is missing. To achieve this, we need what is called a **negative lookahead**, which is a suffix that *we do not want matched* to qualify. We will qualify two slashes `//` that are not followed by `www.`, which can be expressed as `(?!www)`. "
   ]
  },
  {
   "cell_type": "code",
   "execution_count": 52,
   "id": "c6d2f810",
   "metadata": {},
   "outputs": [
    {
     "name": "stdout",
     "output_type": "stream",
     "text": [
      "\n",
      "Here are a few websites below: \n",
      "\n",
      "https://www.yawmanflight.com\n",
      "https://www.microsoft.com\n",
      "https://www.youtube.com\n",
      "https://www.anaconda.com\n",
      "\n",
      "These are non-commercial sites: \n",
      "https://www.python.org\n",
      "https://www.whitehouse.gov \n",
      "\n"
     ]
    }
   ],
   "source": [
    "fix_www = re.sub(pattern=\"//(?!www)\", \n",
    "                   repl=\"//www.\", \n",
    "                   string=fix_https)\n",
    "print(fix_www)"
   ]
  },
  {
   "cell_type": "markdown",
   "id": "607826d7",
   "metadata": {},
   "source": [
    "## Exercise"
   ]
  },
  {
   "cell_type": "markdown",
   "id": "5b7ae4b6",
   "metadata": {},
   "source": [
    "Split the string below to separate on commas but only if the commas exist between two digits. Replace the question mark `?` with the regular expression below. "
   ]
  },
  {
   "cell_type": "code",
   "execution_count": 54,
   "id": "72c08cd9",
   "metadata": {},
   "outputs": [
    {
     "data": {
      "text/plain": [
       "['6.1,', '2.9,', '4.7,', '1.4,versicolor']"
      ]
     },
     "execution_count": 54,
     "metadata": {},
     "output_type": "execute_result"
    }
   ],
   "source": [
    "import re\n",
    "\n",
    "split_pattern = re.compile(?)\n",
    "\n",
    "re.split(pattern=split_pattern, string=\"6.1,2.9,4.7,1.4,versicolor\")"
   ]
  },
  {
   "cell_type": "markdown",
   "id": "c17b4434",
   "metadata": {},
   "source": [
    "### SCROLL DOWN FOR ANSWER\n",
    "|<br>\n",
    "|<br>\n",
    "|<br>\n",
    "|<br>\n",
    "|<br>\n",
    "|<br>\n",
    "|<br>\n",
    "|<br>\n",
    "|<br>\n",
    "|<br>\n",
    "|<br>\n",
    "|<br>\n",
    "|<br>\n",
    "|<br>\n",
    "|<br>\n",
    "|<br>\n",
    "|<br>\n",
    "|<br>\n",
    "|<br>\n",
    "|<br>\n",
    "|<br>\n",
    "|<br>\n",
    "|<br>\n",
    "v "
   ]
  },
  {
   "cell_type": "code",
   "execution_count": null,
   "id": "b12446cd",
   "metadata": {},
   "outputs": [],
   "source": [
    "import re\n",
    "\n",
    "split_pattern = re.compile(\"(?<=[0-9],(?=[0-9]))\")\n",
    "\n",
    "re.split(pattern=split_pattern, string=\"6.1,2.9,4.7,1.4,versicolor\")"
   ]
  }
 ],
 "metadata": {
  "kernelspec": {
   "display_name": "Python 3 (ipykernel)",
   "language": "python",
   "name": "python3"
  },
  "language_info": {
   "codemirror_mode": {
    "name": "ipython",
    "version": 3
   },
   "file_extension": ".py",
   "mimetype": "text/x-python",
   "name": "python",
   "nbconvert_exporter": "python",
   "pygments_lexer": "ipython3",
   "version": "3.12.2"
  }
 },
 "nbformat": 4,
 "nbformat_minor": 5
}
