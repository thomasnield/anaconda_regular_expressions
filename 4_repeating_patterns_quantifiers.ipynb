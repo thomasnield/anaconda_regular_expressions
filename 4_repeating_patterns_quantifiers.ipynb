{
 "cells": [
  {
   "cell_type": "markdown",
   "id": "86dbc5aa",
   "metadata": {},
   "source": [
    "# Repeating Patterns with Quantifiers"
   ]
  },
  {
   "cell_type": "markdown",
   "id": "7b68a616",
   "metadata": {},
   "source": [
    "By now, you might be slightly tired of writing `[A-z0-9][A-z0-9][A-z0-9]` just to match three uppercase alphanumeric. Now imagine if you have to match 20 alphanumeric characters 😱? Doesn't that just sound awful? \n",
    "\n",
    "```\n",
    "[A-z0-9][A-z0-9][A-z0-9][A-z0-9][A-z0-9][A-z0-9][A-z0-9][A-z0-9][A-z0-9][A-z0-9][A-z0-9][A-z0-9][A-z0-9][A-z0-9][A-z0-9][A-z0-9][A-z0-9][A-z0-9][A-z0-9][A-z0-9]\n",
    "```"
   ]
  },
  {
   "cell_type": "markdown",
   "id": "075603e0",
   "metadata": {},
   "source": [
    "Well worry not. Quantifiers have come to the rescue! We can consolidate all of that to this. 😂\n",
    "\n",
    "```\n",
    "[A-z0-9]{20}\n",
    "```\n",
    "\n",
    "And we can do much, much more. "
   ]
  },
  {
   "cell_type": "markdown",
   "id": "bf6f3a80",
   "metadata": {},
   "source": [
    "## Fixed Quantifiers"
   ]
  },
  {
   "cell_type": "markdown",
   "id": "ac9b8d07",
   "metadata": {},
   "source": [
    "This regex you saw `[A-z0-9]{20}` has a bracketed number `{20}`, which specifies how many times to repeat the pattern preceding. We can see that it matches exactly 20 alphanumeric characters `[A-z0-9]`. "
   ]
  },
  {
   "cell_type": "code",
   "execution_count": null,
   "id": "c29c84d9",
   "metadata": {},
   "outputs": [],
   "source": [
    "from re import fullmatch \n",
    "\n",
    "fullmatch(pattern=\"[A-z0-9]{20}\", string=\"Achd46\") != None"
   ]
  },
  {
   "cell_type": "code",
   "execution_count": null,
   "id": "8d28c106",
   "metadata": {},
   "outputs": [],
   "source": [
    "fullmatch(pattern=\"[A-z0-9]{20}\", string=\"hgbjh734hgfhsabfghhf\") != None"
   ]
  },
  {
   "cell_type": "markdown",
   "id": "d6f57e7e",
   "metadata": {},
   "source": [
    "As you can guess, a **quantifier** repeats a regex pattern and the example above is a fixed quantifier. "
   ]
  },
  {
   "cell_type": "markdown",
   "id": "202d861d",
   "metadata": {},
   "source": [
    "## Min/Max Quantifiers"
   ]
  },
  {
   "cell_type": "markdown",
   "id": "3553ec50",
   "metadata": {},
   "source": [
    "Using two numbers separating by a comma, we can specify a **min/max quantifier** to repeat a pattern a min/max number of times. \n",
    "\n",
    "```\n",
    "pattern{min,max}\n",
    "```\n",
    "\n",
    "For example, we can match airline and airport codes which have two or three alphabetic characters respectively. "
   ]
  },
  {
   "cell_type": "code",
   "execution_count": null,
   "id": "0f04e71d",
   "metadata": {},
   "outputs": [],
   "source": [
    "fullmatch(pattern=\"[A-Z]{2,3}\", string=\"DL\") != None "
   ]
  },
  {
   "cell_type": "code",
   "execution_count": null,
   "id": "f31950c3",
   "metadata": {},
   "outputs": [],
   "source": [
    "fullmatch(pattern=\"[A-Z]{2,3}\", string=\"JFK\") != None "
   ]
  },
  {
   "cell_type": "code",
   "execution_count": null,
   "id": "a4990231",
   "metadata": {},
   "outputs": [],
   "source": [
    "fullmatch(pattern=\"[A-Z]{2,3}\", string=\"ALPHA\") != None "
   ]
  },
  {
   "cell_type": "markdown",
   "id": "fa911153",
   "metadata": {},
   "source": [
    "We can match 1 to 100 numeric digits. "
   ]
  },
  {
   "cell_type": "code",
   "execution_count": null,
   "id": "aa9f0f68",
   "metadata": {},
   "outputs": [],
   "source": [
    "fullmatch(pattern=\"[0-9]{1,100}\", string=\"25482\") != None "
   ]
  },
  {
   "cell_type": "code",
   "execution_count": null,
   "id": "e30725c4",
   "metadata": {},
   "outputs": [],
   "source": [
    "fullmatch(pattern=\"[0-9]{1,100}\", string=\"98465462164984335498465649849463574546325775455\") != None "
   ]
  },
  {
   "cell_type": "markdown",
   "id": "273cbfbf",
   "metadata": {},
   "source": [
    "If we leave the `max` blank, we can capture an unlimited number of digits. Below we match at least 3 digits with an unlimited maximum. "
   ]
  },
  {
   "cell_type": "code",
   "execution_count": null,
   "id": "a1d8ae87",
   "metadata": {
    "scrolled": true
   },
   "outputs": [],
   "source": [
    "fullmatch(pattern=\"[0-9]{3,}\", string=\"98\") != None "
   ]
  },
  {
   "cell_type": "code",
   "execution_count": null,
   "id": "7ce118a5",
   "metadata": {
    "scrolled": true
   },
   "outputs": [],
   "source": [
    "fullmatch(pattern=\"[0-9]{3,}\", string=\"98465462164984335498465649849463574546325775455\") != None "
   ]
  },
  {
   "cell_type": "markdown",
   "id": "0e0712d5",
   "metadata": {},
   "source": [
    "We can also have a minimum of 0, which makes the presence of that pattern completely optional. Below we match an `x` and an uppercase alphabetic letter, but 0-3 digits can exist between them. "
   ]
  },
  {
   "cell_type": "code",
   "execution_count": null,
   "id": "a9256b2a",
   "metadata": {},
   "outputs": [],
   "source": [
    "fullmatch(pattern=\"x[0-9]{0,3}[A-Z]\", string=\"xZ\") != None "
   ]
  },
  {
   "cell_type": "code",
   "execution_count": null,
   "id": "f597a8ac",
   "metadata": {
    "scrolled": true
   },
   "outputs": [],
   "source": [
    "fullmatch(pattern=\"x[0-9]{0,3}[A-Z]\", string=\"x75Z\") != None "
   ]
  },
  {
   "cell_type": "markdown",
   "id": "23275bd3",
   "metadata": {},
   "source": [
    "## Shorthand Quantifiers"
   ]
  },
  {
   "cell_type": "markdown",
   "id": "f3b135ac",
   "metadata": {},
   "source": [
    "Certain min/max quantifiers, specifically `{1,}`, `{0,}`, and `{0,1}` are so common they get their shorthands: `+`, `*`, and `?` respectively. \n",
    "\n",
    "|Shorthand|Min/Max Equivalent|Description|\n",
    "|---|---|---|\n",
    "|`+`|`{1,}`|Matches one or more instances of a pattern|\n",
    "|`*`|`{0,}`|Matches 0 or more instances of a pattern|\n",
    "|`?`|`{0,1}`|Matches only 0 or 1 instances of a pattern|"
   ]
  },
  {
   "cell_type": "markdown",
   "id": "269a5b86",
   "metadata": {},
   "source": [
    "Below, we match any sequence of digits then a sequence of uppercase letters. "
   ]
  },
  {
   "cell_type": "code",
   "execution_count": null,
   "id": "f7f3ec72",
   "metadata": {},
   "outputs": [],
   "source": [
    "fullmatch(pattern=\"[0-9]+[A-Z]+\", string=\"746234WHISKEY\") != None "
   ]
  },
  {
   "cell_type": "markdown",
   "id": "a6bbd2b6",
   "metadata": {},
   "source": [
    "Again, the `+` is the equivalent to `{1,}` so the same task could have been achieved this way. It specifies \"at least one instance of this pattern must exist, and I'll capture as many that exist after that.\" "
   ]
  },
  {
   "cell_type": "code",
   "execution_count": null,
   "id": "5f813423",
   "metadata": {},
   "outputs": [],
   "source": [
    "fullmatch(pattern=\"[0-9]{1,}[A-Z]{1,}\", string=\"746234WHISKEY\") != None "
   ]
  },
  {
   "cell_type": "markdown",
   "id": "3ffeb09d",
   "metadata": {},
   "source": [
    "We can also make the digit sequence completely optional by using the `*` instead of `+`, which is the equivalent of using `{0,}` instead of `{1,}`. "
   ]
  },
  {
   "cell_type": "code",
   "execution_count": null,
   "id": "5007759a",
   "metadata": {
    "scrolled": true
   },
   "outputs": [],
   "source": [
    "fullmatch(pattern=\"[0-9]*[A-Z]{1,}\", string=\"746234WHISKEY\") != None "
   ]
  },
  {
   "cell_type": "code",
   "execution_count": null,
   "id": "f6620fb7",
   "metadata": {
    "scrolled": true
   },
   "outputs": [],
   "source": [
    "fullmatch(pattern=\"[0-9]*[A-Z]{1,}\", string=\"WHISKEY\") != None "
   ]
  },
  {
   "cell_type": "code",
   "execution_count": null,
   "id": "e989821e",
   "metadata": {},
   "outputs": [],
   "source": [
    "fullmatch(pattern=\"[0-9]*[A-Z]{1,}\", string=\"746234\") != None "
   ]
  },
  {
   "cell_type": "markdown",
   "id": "95c2b9fb",
   "metadata": {},
   "source": [
    "The `?` is another common shorthand, which is the same as `{0,1}`. It is often referred to as an **optional** as it says one instance of a pattern can be there, but it does not have to be. Below we match two alphabetic letters, but they can be preceded by a single digit. "
   ]
  },
  {
   "cell_type": "code",
   "execution_count": null,
   "id": "73794efa",
   "metadata": {},
   "outputs": [],
   "source": [
    "fullmatch(pattern=\"[0-9]?[A-Z]{2}\", string=\"AZ\") != None "
   ]
  },
  {
   "cell_type": "code",
   "execution_count": null,
   "id": "05cf6f40",
   "metadata": {},
   "outputs": [],
   "source": [
    "fullmatch(pattern=\"[0-9]?[A-Z]{2}\", string=\"4AZ\") != None "
   ]
  },
  {
   "cell_type": "markdown",
   "id": "0c52bc37",
   "metadata": {},
   "source": [
    "## Greedy versus Lazy Quantifiers"
   ]
  },
  {
   "cell_type": "markdown",
   "id": "59104fe4",
   "metadata": {},
   "source": [
    "Switching over to a partial match context using `search()`, notice what happens when I search for a sequence of letters. I will also show that you can access the matches by index using square brackets `[ ]` on the `Match` object. We will use the index `[0]` to get the first match. "
   ]
  },
  {
   "cell_type": "code",
   "execution_count": null,
   "id": "e45a1828",
   "metadata": {},
   "outputs": [],
   "source": [
    "from re import search \n",
    "\n",
    "search(pattern=\"[XY0-9]+\", string=\"XXYY9637ALPHA\")[0]"
   ]
  },
  {
   "cell_type": "markdown",
   "id": "e90f994b",
   "metadata": {},
   "source": [
    "No surprise. It captured everything up to the `7`. But ask yourself this: why did it not stop at the first `X`? That would satisfy the regex of `[XY0-9]+` right? The reason is regular expressions are by default **greedy**, meaning they are going to capture as much text as they can for a given pattern until the pattern can no longer be matched. If you want to make the regular expression **lazy**, or stop as early as possible once the pattern is satisfied, add a question mark after the quantifier `+?`. "
   ]
  },
  {
   "cell_type": "code",
   "execution_count": null,
   "id": "e092795d",
   "metadata": {
    "scrolled": true
   },
   "outputs": [],
   "source": [
    "search(pattern=\"[XY0-9]+?\", string=\"XXYY9637ALPHA\")[0]"
   ]
  },
  {
   "cell_type": "markdown",
   "id": "3938938b",
   "metadata": {},
   "source": [
    "Do not confuse the question mark being used in a different context. Earlier we used it as a shorthand for a `{0,1}` quantifier, but if it is after another quantifier it will be a lazy modifier. I personally have not used lazy modifiers often, and these simple examples may not make sense why they are useful. After all, you can achieve the same behavior just looking for one instance in this case. "
   ]
  },
  {
   "cell_type": "code",
   "execution_count": null,
   "id": "50357c74",
   "metadata": {
    "scrolled": false
   },
   "outputs": [],
   "source": [
    "search(pattern=\"[XY0-9]\", string=\"XXYY9637ALPHA\")[0]"
   ]
  },
  {
   "cell_type": "markdown",
   "id": "92456722",
   "metadata": {},
   "source": [
    "But when we learn how to build more complex regular expressions and if you are traversing documents, they can be handy. They are also a useful tool when your regex is capturing more than you expected, and the lazy modification is simpler than a more complex regular expression. "
   ]
  },
  {
   "cell_type": "markdown",
   "id": "1d2cd466",
   "metadata": {},
   "source": [
    "## Exercise"
   ]
  },
  {
   "cell_type": "markdown",
   "id": "3caf03a1",
   "metadata": {},
   "source": [
    "Write a regular expression that matches a series of digits, then a space, and then a series of uppercase letters, then another space, and finally the word \"END\". Put the regular expression string in the question mark `?` below. \n",
    "\n",
    "HINT: remember that `\\s` is a regex pattern for a space and do not forget to use a raw string `r\"my regex\"` since there will be a backslash. "
   ]
  },
  {
   "cell_type": "code",
   "execution_count": null,
   "id": "af8cd506",
   "metadata": {},
   "outputs": [],
   "source": [
    "from re import fullmatch \n",
    "\n",
    "fullmatch(pattern=?, string=\"5766264 TANGO END\") != None"
   ]
  },
  {
   "cell_type": "markdown",
   "id": "672306ab",
   "metadata": {},
   "source": [
    "### SCROLL DOWN FOR ANSWER\n",
    "|<br>\n",
    "|<br>\n",
    "|<br>\n",
    "|<br>\n",
    "|<br>\n",
    "|<br>\n",
    "|<br>\n",
    "|<br>\n",
    "|<br>\n",
    "|<br>\n",
    "|<br>\n",
    "|<br>\n",
    "|<br>\n",
    "|<br>\n",
    "|<br>\n",
    "|<br>\n",
    "|<br>\n",
    "|<br>\n",
    "|<br>\n",
    "|<br>\n",
    "|<br>\n",
    "|<br>\n",
    "|<br>\n",
    "v "
   ]
  },
  {
   "cell_type": "code",
   "execution_count": null,
   "id": "6473018a",
   "metadata": {},
   "outputs": [],
   "source": [
    "from re import fullmatch \n",
    "\n",
    "fullmatch(pattern=r\"[0-9]+\\s[A-Z]+\\sEND\", string=\"5766264 TANGO END\") != None"
   ]
  }
 ],
 "metadata": {
  "kernelspec": {
   "display_name": "Python 3 (ipykernel)",
   "language": "python",
   "name": "python3"
  },
  "language_info": {
   "codemirror_mode": {
    "name": "ipython",
    "version": 3
   },
   "file_extension": ".py",
   "mimetype": "text/x-python",
   "name": "python",
   "nbconvert_exporter": "python",
   "pygments_lexer": "ipython3",
   "version": "3.12.2"
  }
 },
 "nbformat": 4,
 "nbformat_minor": 5
}
