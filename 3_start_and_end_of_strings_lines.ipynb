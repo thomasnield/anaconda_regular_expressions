{
 "cells": [
  {
   "cell_type": "markdown",
   "id": "33ebe6c8",
   "metadata": {},
   "source": [
    "## Start and End of Lines and Strings"
   ]
  },
  {
   "cell_type": "markdown",
   "id": "9ea5278f",
   "metadata": {},
   "source": [
    "We will learn how to qualify the start and end of lines and strings, which are called **anchors**. Along the way, we will understand the nuances between full matches and partial matches, and how anchors can assist with this too. "
   ]
  },
  {
   "cell_type": "markdown",
   "id": "b4cf193f",
   "metadata": {},
   "source": [
    "## Full Matches versus Partial Matches"
   ]
  },
  {
   "cell_type": "markdown",
   "id": "f60965bc",
   "metadata": {},
   "source": [
    "Let's bring in the `match()`, `search()`, and `fullmatch()` functions from the `re` regex libary. "
   ]
  },
  {
   "cell_type": "code",
   "execution_count": 1,
   "id": "38f07f81",
   "metadata": {},
   "outputs": [],
   "source": [
    "from re import match, search, fullmatch"
   ]
  },
  {
   "cell_type": "markdown",
   "id": "4f2fc739",
   "metadata": {},
   "source": [
    "### fullmatch()"
   ]
  },
  {
   "cell_type": "markdown",
   "id": "e6efed26",
   "metadata": {},
   "source": [
    "We have learned how to do a full match using the `fullmatch()` function. The regex `[0-9][A-Z]` below will not match `5BA` because the string contains an extraneous character. "
   ]
  },
  {
   "cell_type": "code",
   "execution_count": 2,
   "id": "e128ec93",
   "metadata": {},
   "outputs": [
    {
     "data": {
      "text/plain": [
       "False"
      ]
     },
     "execution_count": 2,
     "metadata": {},
     "output_type": "execute_result"
    }
   ],
   "source": [
    "fullmatch(pattern=\"[0-9][A-Z]\", string=\"5BA\") != None"
   ]
  },
  {
   "cell_type": "markdown",
   "id": "08e85716",
   "metadata": {},
   "source": [
    "### match()"
   ]
  },
  {
   "cell_type": "markdown",
   "id": "db2435b2",
   "metadata": {},
   "source": [
    "But what happens if we use the `match()` function? "
   ]
  },
  {
   "cell_type": "code",
   "execution_count": 3,
   "id": "b0acaa2f",
   "metadata": {},
   "outputs": [
    {
     "data": {
      "text/plain": [
       "True"
      ]
     },
     "execution_count": 3,
     "metadata": {},
     "output_type": "execute_result"
    }
   ],
   "source": [
    "match(pattern=\"[0-9][A-Z]\", string=\"5BA\") != None"
   ]
  },
  {
   "cell_type": "markdown",
   "id": "8912dbdd",
   "metadata": {},
   "source": [
    "Interestingly, this now matches. It must be because this works with partial matching and found `5B`. What if we gave it a string `A5B`? Should it not match the `5B` if it matches partially?  "
   ]
  },
  {
   "cell_type": "code",
   "execution_count": 4,
   "id": "b133d0a2",
   "metadata": {},
   "outputs": [
    {
     "data": {
      "text/plain": [
       "False"
      ]
     },
     "execution_count": 4,
     "metadata": {},
     "output_type": "execute_result"
    }
   ],
   "source": [
    "match(pattern=\"[0-9][A-Z]\", string=\"A5B\") != None"
   ]
  },
  {
   "cell_type": "markdown",
   "id": "6ffac689",
   "metadata": {},
   "source": [
    "Wait, that does not work. The reason is because `match()` will only do partial matches at the start of the string. If you intend on finding a partial match *anywhere* in the string, you need to use `search()`. "
   ]
  },
  {
   "cell_type": "markdown",
   "id": "3e69ffd5",
   "metadata": {},
   "source": [
    "### search()"
   ]
  },
  {
   "cell_type": "markdown",
   "id": "4b38f30e",
   "metadata": {},
   "source": [
    "If you thought `match()` would return a partial match anywhere in the string rather than only at the start of the string, you were likely wanting to use `search()` instead. Don't mix up these two, and in practice you are much more likely to use `search()`. "
   ]
  },
  {
   "cell_type": "code",
   "execution_count": 7,
   "id": "c24d082e",
   "metadata": {},
   "outputs": [
    {
     "data": {
      "text/plain": [
       "True"
      ]
     },
     "execution_count": 7,
     "metadata": {},
     "output_type": "execute_result"
    }
   ],
   "source": [
    "search(pattern=\"[0-9][A-Z]\", string=\"A5B\") != None"
   ]
  },
  {
   "cell_type": "markdown",
   "id": "0ca9ff60",
   "metadata": {},
   "source": [
    "So use `search()` when you intend to look for partial matches *anywhere* in the string. You can also qualify the *start-of-string* `^` to achieve what the `match()` does with `search()`. We will learn about the *start-of-string* and *end-of-string* next. "
   ]
  },
  {
   "cell_type": "code",
   "execution_count": 8,
   "id": "42288c66",
   "metadata": {},
   "outputs": [
    {
     "data": {
      "text/plain": [
       "False"
      ]
     },
     "execution_count": 8,
     "metadata": {},
     "output_type": "execute_result"
    }
   ],
   "source": [
    "search(pattern=\"^[0-9][A-Z]\", string=\"A5B\") != None"
   ]
  },
  {
   "cell_type": "code",
   "execution_count": 9,
   "id": "012a8689",
   "metadata": {},
   "outputs": [
    {
     "data": {
      "text/plain": [
       "True"
      ]
     },
     "execution_count": 9,
     "metadata": {},
     "output_type": "execute_result"
    }
   ],
   "source": [
    "search(pattern=\"^[0-9][A-Z]\", string=\"5BA\") != None"
   ]
  },
  {
   "cell_type": "markdown",
   "id": "7267224a",
   "metadata": {},
   "source": [
    "## Start of String and Line"
   ]
  },
  {
   "cell_type": "markdown",
   "id": "3963935e",
   "metadata": {},
   "source": [
    "As we saw in the previous example, we can qualify a *start-of-string* using the caret operator `^`. Logically, it is most common to use this operator at the beginning of a regular expression. If I wanted to match only a digit that is the first character of a string, I would use the regex `^[0-9]`. "
   ]
  },
  {
   "cell_type": "code",
   "execution_count": 10,
   "id": "222dad49",
   "metadata": {},
   "outputs": [
    {
     "data": {
      "text/plain": [
       "True"
      ]
     },
     "execution_count": 10,
     "metadata": {},
     "output_type": "execute_result"
    }
   ],
   "source": [
    "search(pattern=\"^[0-9]\", string=\"7 Apple Macbooks\") != None"
   ]
  },
  {
   "cell_type": "code",
   "execution_count": 11,
   "id": "b3b321f7",
   "metadata": {},
   "outputs": [
    {
     "data": {
      "text/plain": [
       "False"
      ]
     },
     "execution_count": 11,
     "metadata": {},
     "output_type": "execute_result"
    }
   ],
   "source": [
    "search(pattern=\"^[0-9]\", string=\"iPhone 8\") != None"
   ]
  },
  {
   "cell_type": "markdown",
   "id": "eda88882",
   "metadata": {},
   "source": [
    "When you have multiple lines in your string, you may want to change the behavior of `^` so it qualifies the start of a line rather than the start of a string. You can use the `re.MULTILINE` flag to achieve this. "
   ]
  },
  {
   "cell_type": "code",
   "execution_count": 13,
   "id": "567b2324",
   "metadata": {},
   "outputs": [
    {
     "data": {
      "text/plain": [
       "'7'"
      ]
     },
     "execution_count": 13,
     "metadata": {},
     "output_type": "execute_result"
    }
   ],
   "source": [
    "import re \n",
    "\n",
    "receipt = \"\"\"\n",
    "7 Apple Macbooks\n",
    "iPhone 8\n",
    "3 iPad Airs\n",
    "\"\"\"\n",
    "\n",
    "search(pattern=\"^[0-9]\", string=receipt, flags=re.MULTILINE) != None"
   ]
  },
  {
   "cell_type": "markdown",
   "id": "7ad38d87",
   "metadata": {},
   "source": [
    "Above, there were two matches so it just qualifies as true. You might be wondering how we can return several partial matches from a document or multiline string. We will learn how to do this in a later section. \n",
    "\n",
    "The example below will result in no matches, as no line starts with a digit. "
   ]
  },
  {
   "cell_type": "code",
   "execution_count": 14,
   "id": "cb0f81bd",
   "metadata": {
    "scrolled": true
   },
   "outputs": [
    {
     "data": {
      "text/plain": [
       "False"
      ]
     },
     "execution_count": 14,
     "metadata": {},
     "output_type": "execute_result"
    }
   ],
   "source": [
    "receipt = \"\"\"\n",
    "Apple Macbook Air \n",
    "iPhone 8\n",
    "iPad Mini 3\n",
    "\"\"\"\n",
    "\n",
    "search(pattern=\"^[0-9]\", string=receipt, flags=re.MULTILINE) != None"
   ]
  },
  {
   "cell_type": "markdown",
   "id": "f41b1279",
   "metadata": {},
   "source": [
    "## End of String and Line"
   ]
  },
  {
   "cell_type": "markdown",
   "id": "6179a7fa",
   "metadata": {},
   "source": [
    "You can also qualify the end of a string or line in a similar manner using the `$`. Logically, this is going to be put at the end of your regex rather than the beginning as it matches the end of the string. "
   ]
  },
  {
   "cell_type": "code",
   "execution_count": 15,
   "id": "251f74cf",
   "metadata": {},
   "outputs": [
    {
     "data": {
      "text/plain": [
       "True"
      ]
     },
     "execution_count": 15,
     "metadata": {},
     "output_type": "execute_result"
    }
   ],
   "source": [
    "search(pattern=\"[0-9]$\", string=\"iPhone 8\") != None"
   ]
  },
  {
   "cell_type": "code",
   "execution_count": 16,
   "id": "181bf4ef",
   "metadata": {},
   "outputs": [
    {
     "data": {
      "text/plain": [
       "False"
      ]
     },
     "execution_count": 16,
     "metadata": {},
     "output_type": "execute_result"
    }
   ],
   "source": [
    "search(pattern=\"[0-9]$\", string=\"7 Apple Macbooks\") != None"
   ]
  },
  {
   "cell_type": "markdown",
   "id": "c7c7097c",
   "metadata": {},
   "source": [
    "We can also match digits at the end of the line, rather than the end of the string, using `re.MULTILINE`. "
   ]
  },
  {
   "cell_type": "code",
   "execution_count": 17,
   "id": "d694b1d2",
   "metadata": {},
   "outputs": [
    {
     "data": {
      "text/plain": [
       "True"
      ]
     },
     "execution_count": 17,
     "metadata": {},
     "output_type": "execute_result"
    }
   ],
   "source": [
    "receipt = \"\"\"\n",
    "Apple Macbook Air \n",
    "iPhone 8\n",
    "iPad Mini 3\n",
    "\"\"\"\n",
    "\n",
    "search(pattern=\"[0-9]$\", string=receipt, flags=re.MULTILINE) != None"
   ]
  },
  {
   "cell_type": "code",
   "execution_count": 18,
   "id": "bbd20d21",
   "metadata": {},
   "outputs": [
    {
     "data": {
      "text/plain": [
       "False"
      ]
     },
     "execution_count": 18,
     "metadata": {},
     "output_type": "execute_result"
    }
   ],
   "source": [
    "import re \n",
    "\n",
    "receipt = \"\"\"\n",
    "7 Apple Macbooks\n",
    "3 iPad Airs\n",
    "\"\"\"\n",
    "\n",
    "search(pattern=\"[0-9]$\", string=receipt, flags=re.MULTILINE) != None"
   ]
  },
  {
   "cell_type": "markdown",
   "id": "0eaded23",
   "metadata": {},
   "source": [
    "## Forcing Full Matches with ^ and \\$"
   ]
  },
  {
   "cell_type": "markdown",
   "id": "4892639e",
   "metadata": {},
   "source": [
    "To force a full match on a regular expression, you can always use `fullmatch()`. But it can be helpful to have the regular expression to express a fullmatch requirement even when used in a partial match context. This is done by simply using both the start-of-string `^` and end-of-string `$`. Below, we force a fullmatch with a regex `^[0-9][A-Z]$`. This basically reads as \"only a digit followed by an uppercase letter can exist between the start and end of the string.\" This logic is effectively a full match. "
   ]
  },
  {
   "cell_type": "code",
   "execution_count": 19,
   "id": "a2502b5b",
   "metadata": {
    "scrolled": true
   },
   "outputs": [
    {
     "data": {
      "text/plain": [
       "False"
      ]
     },
     "execution_count": 19,
     "metadata": {},
     "output_type": "execute_result"
    }
   ],
   "source": [
    "search(pattern=\"^[0-9][A-Z]$\", string=\"A5B\") != None"
   ]
  },
  {
   "cell_type": "code",
   "execution_count": 20,
   "id": "8689fd69",
   "metadata": {},
   "outputs": [
    {
     "data": {
      "text/plain": [
       "True"
      ]
     },
     "execution_count": 20,
     "metadata": {},
     "output_type": "execute_result"
    }
   ],
   "source": [
    "search(pattern=\"^[0-9][A-Z]$\", string=\"5B\") != None"
   ]
  },
  {
   "cell_type": "markdown",
   "id": "8a12f34b",
   "metadata": {},
   "source": [
    "> When I stored regular expressions in a database to build business rule engines, I follow this practice so people know the regex intends to be used as a full match. When you switch between platforms like SQL or Java, it helps to have a regex built this way too so you don't misuse a partial match function thinking it does full matching.  If you intend to do a full match, I believe it is a good practice to get into. However, I will refrain from imposing it on the rest of this course and just use `fullmatch()` when I intend to do a full match. \n",
    "\n",
    "Of course, you can use this pattern to \"full match\" the contents of each line using `re.MULTLINE`. "
   ]
  },
  {
   "cell_type": "code",
   "execution_count": 21,
   "id": "6627cf72",
   "metadata": {},
   "outputs": [
    {
     "data": {
      "text/plain": [
       "True"
      ]
     },
     "execution_count": 21,
     "metadata": {},
     "output_type": "execute_result"
    }
   ],
   "source": [
    "import re \n",
    "\n",
    "my_doc = \"\"\"\n",
    "7HD\n",
    "H7A\n",
    "5MD\n",
    "\"\"\"\n",
    "\n",
    "search(pattern=\"^[0-9][A-Z][A-Z]$\", string=my_doc, flags=re.MULTILINE) != None"
   ]
  },
  {
   "cell_type": "markdown",
   "id": "116dc0b8",
   "metadata": {},
   "source": [
    "Notice below how `4HAU` is not matched against `^[0-9][A-Z][A-Z]$` because it forces a full match on each line, not a partial one. "
   ]
  },
  {
   "cell_type": "code",
   "execution_count": 22,
   "id": "c8b728e5",
   "metadata": {},
   "outputs": [
    {
     "data": {
      "text/plain": [
       "False"
      ]
     },
     "execution_count": 22,
     "metadata": {},
     "output_type": "execute_result"
    }
   ],
   "source": [
    "import re \n",
    "\n",
    "my_doc = \"\"\"\n",
    "4HAU\n",
    "H7A\n",
    "YHH\n",
    "\"\"\"\n",
    "\n",
    "search(pattern=\"^[0-9][A-Z][A-Z]$\", string=my_doc, flags=re.MULTILINE) != None"
   ]
  },
  {
   "cell_type": "markdown",
   "id": "1f65da69",
   "metadata": {},
   "source": [
    "## Exercise"
   ]
  },
  {
   "cell_type": "markdown",
   "id": "e6febc26",
   "metadata": {},
   "source": [
    "Write a regular expression below that determines if there are lines that start with a 2-letter airline code. Replace the question mark `?` below. \n",
    "\n",
    "HINT: remember that `\\s` is a regex pattern for a space and do not forget to use a raw string `r\"my regex\"` since there will be a backslash. "
   ]
  },
  {
   "cell_type": "code",
   "execution_count": null,
   "id": "eecc20fb",
   "metadata": {},
   "outputs": [],
   "source": [
    "from re import search\n",
    "\n",
    "flights = \"\"\"\n",
    "WN 672 \n",
    "    ABQ HOU\n",
    "DL 78\n",
    "    ATL PHX\n",
    "\"\"\"\n",
    "\n",
    "search(pattern=?, string=flights, flags=re.MULTILINE) != None"
   ]
  },
  {
   "cell_type": "markdown",
   "id": "639e3620",
   "metadata": {},
   "source": [
    "### SCROLL DOWN FOR ANSWER\n",
    "|<br>\n",
    "|<br>\n",
    "|<br>\n",
    "|<br>\n",
    "|<br>\n",
    "|<br>\n",
    "|<br>\n",
    "|<br>\n",
    "|<br>\n",
    "|<br>\n",
    "|<br>\n",
    "|<br>\n",
    "|<br>\n",
    "|<br>\n",
    "|<br>\n",
    "|<br>\n",
    "|<br>\n",
    "|<br>\n",
    "|<br>\n",
    "|<br>\n",
    "|<br>\n",
    "|<br>\n",
    "|<br>\n",
    "v "
   ]
  },
  {
   "cell_type": "code",
   "execution_count": null,
   "id": "78eb76da",
   "metadata": {},
   "outputs": [],
   "source": [
    "from re import search\n",
    "\n",
    "\n",
    "flights = \"\"\"\n",
    "WN 672 \n",
    "    ABQ HOU\n",
    "DL 78\n",
    "    ATL PHX\n",
    "\"\"\"\n",
    "\n",
    "search(pattern=r\"^[A-Z][A-Z]\\s\", string=flights, flags=re.MULTILINE) != None"
   ]
  }
 ],
 "metadata": {
  "kernelspec": {
   "display_name": "Python 3 (ipykernel)",
   "language": "python",
   "name": "python3"
  },
  "language_info": {
   "codemirror_mode": {
    "name": "ipython",
    "version": 3
   },
   "file_extension": ".py",
   "mimetype": "text/x-python",
   "name": "python",
   "nbconvert_exporter": "python",
   "pygments_lexer": "ipython3",
   "version": "3.12.2"
  }
 },
 "nbformat": 4,
 "nbformat_minor": 5
}
