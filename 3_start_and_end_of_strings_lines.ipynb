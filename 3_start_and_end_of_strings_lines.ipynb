{
 "cells": [
  {
   "cell_type": "markdown",
   "id": "378ad3b8",
   "metadata": {},
   "source": [
    "## Start and End of Lines and Strings"
   ]
  },
  {
   "cell_type": "markdown",
   "id": "cf33535e",
   "metadata": {},
   "source": [
    "We will learn how to qualify the start and end of lines and strings, which are called **anchors**. Along the way, we will understand the nuances between full matches and partial matches, and how anchors can assist with this too. "
   ]
  },
  {
   "cell_type": "markdown",
   "id": "31119e5c",
   "metadata": {},
   "source": [
    "## Full Matches versus Partial Matches"
   ]
  },
  {
   "cell_type": "markdown",
   "id": "2f6b232e",
   "metadata": {},
   "source": [
    "Let's bring in the `match()`, `search()`, and `fullmatch()` functions from the `re` regex libary. "
   ]
  },
  {
   "cell_type": "code",
   "execution_count": null,
   "id": "5d02eb95",
   "metadata": {},
   "outputs": [],
   "source": [
    "from re import match, search, fullmatch"
   ]
  },
  {
   "cell_type": "markdown",
   "id": "4ee45c4e",
   "metadata": {},
   "source": [
    "### fullmatch()"
   ]
  },
  {
   "cell_type": "markdown",
   "id": "e9500fab",
   "metadata": {},
   "source": [
    "We have learned how to do a full match using the `fullmatch()` function. The regex `[0-9][A-Z]` below will not match `5BA` because the string contains an extraneous character. "
   ]
  },
  {
   "cell_type": "code",
   "execution_count": null,
   "id": "270537c4",
   "metadata": {},
   "outputs": [],
   "source": [
    "fullmatch(pattern=\"[0-9][A-Z]\", string=\"5BA\") != None"
   ]
  },
  {
   "cell_type": "markdown",
   "id": "b5151bb5",
   "metadata": {},
   "source": [
    "### match()"
   ]
  },
  {
   "cell_type": "markdown",
   "id": "73c9b3ac",
   "metadata": {},
   "source": [
    "But what happens if we use the `match()` function? "
   ]
  },
  {
   "cell_type": "code",
   "execution_count": null,
   "id": "6bcf3384",
   "metadata": {},
   "outputs": [],
   "source": [
    "match(pattern=\"[0-9][A-Z]\", string=\"5BA\") != None"
   ]
  },
  {
   "cell_type": "markdown",
   "id": "65a49ad6",
   "metadata": {},
   "source": [
    "Interestingly, this now matches. It must be because this works with partial matching and found `5B`. What if we gave it a string `A5B`? Should it not match the `5B` if it matches partially?  "
   ]
  },
  {
   "cell_type": "code",
   "execution_count": null,
   "id": "709b2769",
   "metadata": {},
   "outputs": [],
   "source": [
    "match(pattern=\"[0-9][A-Z]\", string=\"A5B\") != None"
   ]
  },
  {
   "cell_type": "markdown",
   "id": "cdf44f0e",
   "metadata": {},
   "source": [
    "Wait, that does not work. The reason is because `match()` will only do partial matches at the start of the string. If you intend on finding a partial match *anywhere* in the string, you need to use `search()`. "
   ]
  },
  {
   "cell_type": "markdown",
   "id": "886bb020",
   "metadata": {},
   "source": [
    "### search()"
   ]
  },
  {
   "cell_type": "markdown",
   "id": "64d287f0",
   "metadata": {},
   "source": [
    "If you thought `match()` would return a partial match anywhere in the string rather than only at the start of the string, you were likely wanting to use `search()` instead. Don't mix up these two, and in practice you are much more likely to use `search()`. "
   ]
  },
  {
   "cell_type": "code",
   "execution_count": null,
   "id": "61ad62a2",
   "metadata": {},
   "outputs": [],
   "source": [
    "search(pattern=\"[0-9][A-Z]\", string=\"A5B\") != None"
   ]
  },
  {
   "cell_type": "markdown",
   "id": "62dd4076",
   "metadata": {},
   "source": [
    "So use `search()` when you intend to look for partial matches *anywhere* in the string. You can also qualify the *start-of-string* `^` to achieve what the `match()` does with `search()`. We will learn about the *start-of-string* and *end-of-string* next. "
   ]
  },
  {
   "cell_type": "code",
   "execution_count": null,
   "id": "e50ced9f",
   "metadata": {},
   "outputs": [],
   "source": [
    "search(pattern=\"^[0-9][A-Z]\", string=\"A5B\") != None"
   ]
  },
  {
   "cell_type": "code",
   "execution_count": null,
   "id": "70c700d3",
   "metadata": {},
   "outputs": [],
   "source": [
    "search(pattern=\"^[0-9][A-Z]\", string=\"5BA\") != None"
   ]
  },
  {
   "cell_type": "markdown",
   "id": "180e35c8",
   "metadata": {},
   "source": [
    "## Start of String and Line"
   ]
  },
  {
   "cell_type": "markdown",
   "id": "3829a910",
   "metadata": {},
   "source": [
    "As we saw in the previous example, we can qualify a *start-of-string* using the caret operator `^`. Logically, it is most common to use this operator at the beginning of a regular expression. If I wanted to match only a digit that is the first character of a string, I would use the regex `^[0-9]`. "
   ]
  },
  {
   "cell_type": "code",
   "execution_count": null,
   "id": "1182e920",
   "metadata": {},
   "outputs": [],
   "source": [
    "search(pattern=\"^[0-9]\", string=\"7 Apple Macbooks\") != None"
   ]
  },
  {
   "cell_type": "code",
   "execution_count": null,
   "id": "2c242f0c",
   "metadata": {},
   "outputs": [],
   "source": [
    "search(pattern=\"^[0-9]\", string=\"iPhone 8\") != None"
   ]
  },
  {
   "cell_type": "markdown",
   "id": "f0257c9b",
   "metadata": {},
   "source": [
    "When you have multiple lines in your string, you may want to change the behavior of `^` so it qualifies the start of a line rather than the start of a string. You can use the `re.MULTILINE` flag to achieve this. "
   ]
  },
  {
   "cell_type": "code",
   "execution_count": null,
   "id": "9268fa69",
   "metadata": {},
   "outputs": [],
   "source": [
    "import re \n",
    "\n",
    "receipt = \"\"\"\n",
    "7 Apple Macbooks\n",
    "iPhone 8\n",
    "3 iPad Airs\n",
    "\"\"\"\n",
    "\n",
    "search(pattern=\"^[0-9]\", string=receipt, flags=re.MULTILINE) != None"
   ]
  },
  {
   "cell_type": "markdown",
   "id": "c6f402ac",
   "metadata": {},
   "source": [
    "Above, there were two matches so it just qualifies as true. You might be wondering how we can return several partial matches from a document or multiline string. We will learn how to do this in a later section. \n",
    "\n",
    "The example below will result in no matches, as no line starts with a digit. "
   ]
  },
  {
   "cell_type": "code",
   "execution_count": null,
   "id": "fc7ba9e3",
   "metadata": {
    "scrolled": true
   },
   "outputs": [],
   "source": [
    "receipt = \"\"\"\n",
    "Apple Macbook Air \n",
    "iPhone 8\n",
    "iPad Mini 3\n",
    "\"\"\"\n",
    "\n",
    "search(pattern=\"^[0-9]\", string=receipt, flags=re.MULTILINE) != None"
   ]
  },
  {
   "cell_type": "markdown",
   "id": "31201dde",
   "metadata": {},
   "source": [
    "## End of String and Line"
   ]
  },
  {
   "cell_type": "markdown",
   "id": "bfb4a66d",
   "metadata": {},
   "source": [
    "You can also qualify the end of a string or line in a similar manner using the `$`. Logically, this is going to be put at the end of your regex rather than the beginning as it matches the end of the string. "
   ]
  },
  {
   "cell_type": "code",
   "execution_count": null,
   "id": "c0dacdf9",
   "metadata": {},
   "outputs": [],
   "source": [
    "search(pattern=\"[0-9]$\", string=\"iPhone 8\") != None"
   ]
  },
  {
   "cell_type": "code",
   "execution_count": null,
   "id": "26464ccc",
   "metadata": {},
   "outputs": [],
   "source": [
    "search(pattern=\"[0-9]$\", string=\"7 Apple Macbooks\") != None"
   ]
  },
  {
   "cell_type": "markdown",
   "id": "454cc55a",
   "metadata": {},
   "source": [
    "We can also match digits at the end of the line, rather than the end of the string, using `re.MULTILINE`. "
   ]
  },
  {
   "cell_type": "code",
   "execution_count": null,
   "id": "5c69b843",
   "metadata": {},
   "outputs": [],
   "source": [
    "receipt = \"\"\"\n",
    "Apple Macbook Air \n",
    "iPhone 8\n",
    "iPad Mini 3\n",
    "\"\"\"\n",
    "\n",
    "search(pattern=\"[0-9]$\", string=receipt, flags=re.MULTILINE) != None"
   ]
  },
  {
   "cell_type": "code",
   "execution_count": null,
   "id": "6603217c",
   "metadata": {},
   "outputs": [],
   "source": [
    "import re \n",
    "\n",
    "receipt = \"\"\"\n",
    "7 Apple Macbooks\n",
    "3 iPad Airs\n",
    "\"\"\"\n",
    "\n",
    "search(pattern=\"[0-9]$\", string=receipt, flags=re.MULTILINE) != None"
   ]
  },
  {
   "cell_type": "markdown",
   "id": "3e0814c0",
   "metadata": {},
   "source": [
    "## Forcing Full Matches with ^ and \\$"
   ]
  },
  {
   "cell_type": "markdown",
   "id": "aa9a649f",
   "metadata": {},
   "source": [
    "To force a full match on a regular expression, you can always use `fullmatch()`. But it can be helpful to have the regular expression to express a fullmatch requirement even when used in a partial match context. This is done by simply using both the start-of-string `^` and end-of-string `$`. Below, we force a fullmatch with a regex `^[0-9][A-Z]$`. This basically reads as \"only a digit followed by an uppercase letter can exist between the start and end of the string.\" This logic is effectively a full match. "
   ]
  },
  {
   "cell_type": "code",
   "execution_count": null,
   "id": "b1b43fcf",
   "metadata": {
    "scrolled": true
   },
   "outputs": [],
   "source": [
    "search(pattern=\"^[0-9][A-Z]$\", string=\"A5B\") != None"
   ]
  },
  {
   "cell_type": "code",
   "execution_count": null,
   "id": "e5ba3aa6",
   "metadata": {},
   "outputs": [],
   "source": [
    "search(pattern=\"^[0-9][A-Z]$\", string=\"5B\") != None"
   ]
  },
  {
   "cell_type": "markdown",
   "id": "0dd71a41",
   "metadata": {},
   "source": [
    "When I stored regular expressions in a database to build business rule engines, I follow this practice so people know the regex intends to be used as a full match. When you switch between platforms like SQL or Java, it helps to have a regex built this way too so you don't misuse a partial match function thinking it does full matching.  If you intend to do a full match, it's a good practice. \n",
    "\n",
    "Of course, you can use this pattern to \"full match\" the contents of each line using `re.MULTLINE`. "
   ]
  },
  {
   "cell_type": "code",
   "execution_count": null,
   "id": "6b0367cc",
   "metadata": {},
   "outputs": [],
   "source": [
    "import re \n",
    "\n",
    "my_doc = \"\"\"\n",
    "7HD\n",
    "H7A\n",
    "5MD\n",
    "\"\"\"\n",
    "\n",
    "search(pattern=\"^[0-9][A-Z][A-Z]$\", string=my_doc, flags=re.MULTILINE) != None"
   ]
  },
  {
   "cell_type": "markdown",
   "id": "28c8a7b8",
   "metadata": {},
   "source": [
    "Notice below how `4HAU` is not matched against `^[0-9][A-Z][A-Z]$` because it forces a full match on each line, not a partial one. "
   ]
  },
  {
   "cell_type": "code",
   "execution_count": null,
   "id": "003bc9da",
   "metadata": {},
   "outputs": [],
   "source": [
    "import re \n",
    "\n",
    "my_doc = \"\"\"\n",
    "4HAU\n",
    "H7A\n",
    "YHH\n",
    "\"\"\"\n",
    "\n",
    "search(pattern=\"^[0-9][A-Z][A-Z]$\", string=my_doc, flags=re.MULTILINE) != None"
   ]
  },
  {
   "cell_type": "markdown",
   "id": "1d583b0b",
   "metadata": {},
   "source": [
    "Write a regular expression below that determines if there are lines that start with a 2-letter airline code. Replace the question mark `?` below. \n",
    "\n",
    "HINT: remember that `\\s` is a regex pattern for a space and do not forget to use a raw string `r\"my regex\"` since there will be a backslash. "
   ]
  },
  {
   "cell_type": "markdown",
   "id": "0bb8bd5d",
   "metadata": {},
   "source": [
    "## Exercise"
   ]
  },
  {
   "cell_type": "code",
   "execution_count": null,
   "id": "aef4f6ee",
   "metadata": {},
   "outputs": [],
   "source": [
    "import re \n",
    "\n",
    "flights = \"\"\"\n",
    "WN 672 \n",
    "    ABQ HOU\n",
    "DL 78\n",
    "    ATL PHX\n",
    "\"\"\"\n",
    "\n",
    "search(pattern=?, string=flights, flags=re.MULTILINE) != None"
   ]
  },
  {
   "cell_type": "markdown",
   "id": "ef3ba8de",
   "metadata": {},
   "source": [
    "### SCROLL DOWN FOR ANSWER\n",
    "|<br>\n",
    "|<br>\n",
    "|<br>\n",
    "|<br>\n",
    "|<br>\n",
    "|<br>\n",
    "|<br>\n",
    "|<br>\n",
    "|<br>\n",
    "|<br>\n",
    "|<br>\n",
    "|<br>\n",
    "|<br>\n",
    "|<br>\n",
    "|<br>\n",
    "|<br>\n",
    "|<br>\n",
    "|<br>\n",
    "|<br>\n",
    "|<br>\n",
    "|<br>\n",
    "|<br>\n",
    "|<br>\n",
    "v "
   ]
  },
  {
   "cell_type": "code",
   "execution_count": null,
   "id": "6498f706",
   "metadata": {},
   "outputs": [],
   "source": [
    "import re \n",
    "\n",
    "flights = \"\"\"\n",
    "WN 672 \n",
    "    ABQ HOU\n",
    "DL 78\n",
    "    ATL PHX\n",
    "\"\"\"\n",
    "\n",
    "search(pattern=r\"^[A-Z][A-Z]\\s\", string=flights, flags=re.MULTILINE) != None"
   ]
  }
 ],
 "metadata": {
  "kernelspec": {
   "display_name": "Python 3 (ipykernel)",
   "language": "python",
   "name": "python3"
  },
  "language_info": {
   "codemirror_mode": {
    "name": "ipython",
    "version": 3
   },
   "file_extension": ".py",
   "mimetype": "text/x-python",
   "name": "python",
   "nbconvert_exporter": "python",
   "pygments_lexer": "ipython3",
   "version": "3.12.2"
  }
 },
 "nbformat": 4,
 "nbformat_minor": 5
}
