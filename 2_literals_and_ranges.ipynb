{
 "cells": [
  {
   "cell_type": "markdown",
   "id": "c6902bd0",
   "metadata": {},
   "source": [
    "# Matching Literals and Character Ranges"
   ]
  },
  {
   "cell_type": "markdown",
   "id": "453db973",
   "metadata": {},
   "source": [
    "Arguably the two basic building blocks of regular expressions are literals and ranges. Literals are characters that do not have any function other than to represent that character *literally*. For example, alphanumeric characters like \"a\" and \"4\" represent \"a\" and \"4\" in a regular expression. They do not have any special functions. Character ranges allow us to qualify multiple characters in a given position. We will also learn how to use the escape `\\` operator to access other characters like whitespaces. \n",
    "\n",
    "To streamline things a little bit, we are going to import the `fullmatch` function directly. "
   ]
  },
  {
   "cell_type": "code",
   "execution_count": null,
   "id": "ec7b8df8",
   "metadata": {},
   "outputs": [],
   "source": [
    "from re import fullmatch "
   ]
  },
  {
   "cell_type": "markdown",
   "id": "da9b490b",
   "metadata": {},
   "source": [
    "## Literals"
   ]
  },
  {
   "cell_type": "markdown",
   "id": "0e90ea29",
   "metadata": {},
   "source": [
    "There is an array of characters that do not have any special function in regular expressions other than the literal characters themselves. The most common literals of course are the alphabetic characters. \n",
    "\n",
    "```\n",
    "ABCDEFGHIJKLMNOPQRSTUVWXYZ\n",
    "abcdefghijklmnopqrstuvwxyz\n",
    "0123456789\n",
    "```"
   ]
  },
  {
   "cell_type": "markdown",
   "id": "8bfe40f9",
   "metadata": {},
   "source": [
    "So if we provided a regular expression of \"Anaconda\" and compared it to the string \"Anaconda\", that of course would provide a match. "
   ]
  },
  {
   "cell_type": "code",
   "execution_count": null,
   "id": "9d8a9d93",
   "metadata": {},
   "outputs": [],
   "source": [
    "fullmatch(pattern=\"Anaconda\", string=\"Anaconda\")"
   ]
  },
  {
   "cell_type": "markdown",
   "id": "4ed3720e",
   "metadata": {},
   "source": [
    "Notice that this did not return a `True` or `False` value which you might have expected. It instead returns a `Match` object. If there was no match, then the `fullmatch()` will return `None` like in this example showing the string \"Python\" does not match the regular expression \"Anaconda\". \n",
    "\n",
    "Since notebooks provide no output for `None`, we will reveal it using a `print()`. "
   ]
  },
  {
   "cell_type": "code",
   "execution_count": null,
   "id": "cc56c9ed",
   "metadata": {},
   "outputs": [],
   "source": [
    "print(fullmatch(pattern=\"Anaconda\", string=\"Python\"))"
   ]
  },
  {
   "cell_type": "markdown",
   "id": "b542788c",
   "metadata": {},
   "source": [
    "If we wanted a simple `True` or `False`, we can create a `if-then` operation or just simply compare if the output of `fullmatch()` is not None. We will take this approach for the remainder of the notebook. "
   ]
  },
  {
   "cell_type": "code",
   "execution_count": null,
   "id": "2e94bca0",
   "metadata": {},
   "outputs": [],
   "source": [
    "fullmatch(pattern=\"Anaconda\", string=\"Python\") != None"
   ]
  },
  {
   "cell_type": "markdown",
   "id": "a27d0429",
   "metadata": {},
   "source": [
    "### Metacharacters"
   ]
  },
  {
   "cell_type": "markdown",
   "id": "62bf15f1",
   "metadata": {},
   "source": [
    "There are a handful of characters that have special functionality in regular expressions, which we will learn about in this course. These metacharacters are the following: \n",
    "\n",
    "```\n",
    ".[](){}\\^$|*+?\n",
    "```\n",
    "\n",
    "The only way to use the literal counterparts of these characters (suppose I wanted to match a dollar sign `\\$`), I would have to precede it with an escaping backslash `\\`. Watch what happens when I try to match the string \"\\\\$151\" with a regular expression \"$151\". "
   ]
  },
  {
   "cell_type": "code",
   "execution_count": null,
   "id": "faf9f6d4",
   "metadata": {},
   "outputs": [],
   "source": [
    "fullmatch(pattern=\"$151\", string=\"$151\") != None"
   ]
  },
  {
   "cell_type": "raw",
   "id": "ec3b96f2",
   "metadata": {},
   "source": [
    "The dollar sign `$` is not a dollar sign in a regular expression. It is the \"end-of-string\" operator which we will learn about later. Now you might slap on that preceding slash I talked about and call it day. But notice I get a warning for *invalid escape sequence*. "
   ]
  },
  {
   "cell_type": "code",
   "execution_count": null,
   "id": "2c0d28a4",
   "metadata": {},
   "outputs": [],
   "source": [
    "fullmatch(pattern=\"\\$151\", string=\"$151\") != None"
   ]
  },
  {
   "cell_type": "markdown",
   "id": "fe1003be",
   "metadata": {},
   "source": [
    "This is because Python has its own escaping with the backslash outside the regular expression. Incredibly annoying! Rather than having to backslash the backslash like this..."
   ]
  },
  {
   "cell_type": "code",
   "execution_count": null,
   "id": "412b1f22",
   "metadata": {},
   "outputs": [],
   "source": [
    "fullmatch(pattern=\"\\\\$151\", string=\"$151\") != None"
   ]
  },
  {
   "cell_type": "markdown",
   "id": "c819260e",
   "metadata": {},
   "source": [
    "I highly recommend you just use a raw string in Python, which treats the backslash as a literal backslash and not an escape character to the Python compiler. "
   ]
  },
  {
   "cell_type": "code",
   "execution_count": null,
   "id": "44039917",
   "metadata": {},
   "outputs": [],
   "source": [
    "fullmatch(pattern=r\"\\$151\", string=\"$151\") != None"
   ]
  },
  {
   "cell_type": "markdown",
   "id": "7786bf1c",
   "metadata": {},
   "source": [
    "That's much better! Precede the regular expression string with an `r` when using backslashes `\\`, and that will prevent clashing with Python's treatment of strings. "
   ]
  },
  {
   "cell_type": "markdown",
   "id": "bddfb73e",
   "metadata": {},
   "source": [
    "## Character Ranges"
   ]
  },
  {
   "cell_type": "markdown",
   "id": "f2e95132",
   "metadata": {},
   "source": [
    "Matching literals are not that interesting. After all, we could use Python equality checks for that and not have to mess with those pesky escapes. But this is where things start to get interesting with regular expressions. \n",
    "\n",
    "A **character range** is a square bracket containing a list of valid characters for a single position. For example, here is a regular expression that matches only characters `7`, `8`, `9`, `D`, and `J`.\n",
    "\n",
    "```\n",
    "[789DJ]\n",
    "```\n",
    "\n",
    "It will only match a string containing just one of those characters."
   ]
  },
  {
   "cell_type": "code",
   "execution_count": null,
   "id": "e39d0b24",
   "metadata": {},
   "outputs": [],
   "source": [
    "fullmatch(pattern=\"[789DJ]\", string=\"7\") != None"
   ]
  },
  {
   "cell_type": "code",
   "execution_count": null,
   "id": "de44c6a8",
   "metadata": {},
   "outputs": [],
   "source": [
    "fullmatch(pattern=\"[789DJ]\", string=\"A\") != None"
   ]
  },
  {
   "cell_type": "markdown",
   "id": "3e473153",
   "metadata": {},
   "source": [
    "Let's say I wanted to match product codes that are 5 characters in length. The first, third, and fifth characters must be `T`, `A` and `B` respectively. However, the second position can be either `H`, `B`, or `Z`. The fourth position can be a `7` or a `9`. This might be tedious to do with substring operations, but it is simple with a regular expression. \n",
    "\n",
    "```\n",
    "T[HB]A[79]B\n",
    "```"
   ]
  },
  {
   "cell_type": "code",
   "execution_count": null,
   "id": "01cbfaa8",
   "metadata": {},
   "outputs": [],
   "source": [
    "fullmatch(pattern=\"T[HB]A[79]B\", string=\"THA7B\") != None"
   ]
  },
  {
   "cell_type": "code",
   "execution_count": null,
   "id": "ef75db13",
   "metadata": {},
   "outputs": [],
   "source": [
    "fullmatch(pattern=\"T[HB]A[79]B\", string=\"THA2B\") != None"
   ]
  },
  {
   "cell_type": "markdown",
   "id": "e891e219",
   "metadata": {},
   "source": [
    "Character ranges can also be expressed with a span of characters, like `[A-Z]` to match any uppercase alphabetic character. Below we match airport codes that are three uppercase letters. \n",
    "\n",
    "```\n",
    "[A-Z][A-Z][A-Z]\n",
    "```"
   ]
  },
  {
   "cell_type": "code",
   "execution_count": null,
   "id": "3c8943f0",
   "metadata": {},
   "outputs": [],
   "source": [
    "fullmatch(pattern=\"[A-Z][A-Z][A-Z]\", string=\"ABQ\") != None"
   ]
  },
  {
   "cell_type": "code",
   "execution_count": null,
   "id": "af24a3aa",
   "metadata": {},
   "outputs": [],
   "source": [
    "fullmatch(pattern=\"[A-Z][A-Z][A-Z]\", string=\"DFW\") != None"
   ]
  },
  {
   "cell_type": "code",
   "execution_count": null,
   "id": "4a76a91f",
   "metadata": {},
   "outputs": [],
   "source": [
    "fullmatch(pattern=\"[A-Z][A-Z][A-Z]\", string=\"JFK\") != None"
   ]
  },
  {
   "cell_type": "code",
   "execution_count": null,
   "id": "459d47cd",
   "metadata": {},
   "outputs": [],
   "source": [
    "fullmatch(pattern=\"[A-Z][A-Z][A-Z]\", string=\"9DK\") != None"
   ]
  },
  {
   "cell_type": "code",
   "execution_count": null,
   "id": "9d49518d",
   "metadata": {},
   "outputs": [],
   "source": [
    "fullmatch(pattern=\"[A-Z][A-Z][A-Z]\", string=\"KDAL\") != None"
   ]
  },
  {
   "cell_type": "markdown",
   "id": "1c97b4e5",
   "metadata": {},
   "source": [
    "If coding `[A-Z]` three times feels repetitive, we will learn about quantifiers later. We can also use it to specify numbers. Below we match all airline codes where the first character is alphabetic and the second character is a numeric digit. "
   ]
  },
  {
   "cell_type": "code",
   "execution_count": null,
   "id": "15ba72a2",
   "metadata": {},
   "outputs": [],
   "source": [
    "fullmatch(pattern=\"[A-Z][0-9]\", string=\"F9\") != None"
   ]
  },
  {
   "cell_type": "code",
   "execution_count": null,
   "id": "ae5b1009",
   "metadata": {},
   "outputs": [],
   "source": [
    "fullmatch(pattern=\"[A-Z][0-9]\", string=\"DL\") != None"
   ]
  },
  {
   "cell_type": "code",
   "execution_count": null,
   "id": "c834d506",
   "metadata": {
    "scrolled": true
   },
   "outputs": [],
   "source": [
    "fullmatch(pattern=\"[A-Z][0-9]\", string=\"WN\") != None"
   ]
  },
  {
   "cell_type": "markdown",
   "id": "b0a92737",
   "metadata": {},
   "source": [
    "We can also specify arbitary ranges and lowercase, such as `[g-j]` and `[4-7]`. "
   ]
  },
  {
   "cell_type": "code",
   "execution_count": null,
   "id": "29901aae",
   "metadata": {},
   "outputs": [],
   "source": [
    "fullmatch(pattern=\"[g-j][4-7]\", string=\"i6\") != None"
   ]
  },
  {
   "cell_type": "code",
   "execution_count": null,
   "id": "2379836a",
   "metadata": {},
   "outputs": [],
   "source": [
    "fullmatch(pattern=\"[g-j][4-7]\", string=\"c4\") != None"
   ]
  },
  {
   "cell_type": "code",
   "execution_count": null,
   "id": "ef5ecc47",
   "metadata": {},
   "outputs": [],
   "source": [
    "fullmatch(pattern=\"[g-j][4-7]\", string=\"j3\") != None"
   ]
  },
  {
   "cell_type": "markdown",
   "id": "852f8725",
   "metadata": {},
   "source": [
    "We can also merge several ranges as being valid in one character range, like `[A-Za-z0-3]`"
   ]
  },
  {
   "cell_type": "code",
   "execution_count": null,
   "id": "12fb8f48",
   "metadata": {},
   "outputs": [],
   "source": [
    "fullmatch(pattern=\"[A-Za-z0-3]\", string=\"j\") != None"
   ]
  },
  {
   "cell_type": "code",
   "execution_count": null,
   "id": "506d2bf4",
   "metadata": {},
   "outputs": [],
   "source": [
    "fullmatch(pattern=\"[A-Za-z0-3]\", string=\"4\") != None"
   ]
  },
  {
   "cell_type": "code",
   "execution_count": null,
   "id": "453806a6",
   "metadata": {},
   "outputs": [],
   "source": [
    "fullmatch(pattern=\"[A-Za-z0-3]\", string=\"2\") != None"
   ]
  },
  {
   "cell_type": "markdown",
   "id": "64a915ea",
   "metadata": {},
   "source": [
    "You can also match uppercase and lowercase letters using `[A-z]`. "
   ]
  },
  {
   "cell_type": "code",
   "execution_count": null,
   "id": "638e32f1",
   "metadata": {},
   "outputs": [],
   "source": [
    "fullmatch(pattern=\"[A-z]\", string=\"d\") != None"
   ]
  },
  {
   "cell_type": "code",
   "execution_count": null,
   "id": "145798a0",
   "metadata": {
    "scrolled": true
   },
   "outputs": [],
   "source": [
    "fullmatch(pattern=\"[A-z]\", string=\"D\") != None"
   ]
  },
  {
   "cell_type": "markdown",
   "id": "ef3ad518",
   "metadata": {},
   "source": [
    "Many metacharacters can be put inside a character range where they will be treated as literals. To literally treat a dash `-` as a dash `-`, just make it the first character in the character range as shown below. We also throw in a dollar sign as a valid character. "
   ]
  },
  {
   "cell_type": "code",
   "execution_count": null,
   "id": "6ce4d2d4",
   "metadata": {},
   "outputs": [],
   "source": [
    "fullmatch(pattern=\"[-$A-z][0-9]\", string=\"-5\") != None"
   ]
  },
  {
   "cell_type": "code",
   "execution_count": null,
   "id": "80221abf",
   "metadata": {},
   "outputs": [],
   "source": [
    "fullmatch(pattern=\"[-$A-z][0-9]\", string=\"$5\") != None"
   ]
  },
  {
   "cell_type": "code",
   "execution_count": null,
   "id": "7746b0a2",
   "metadata": {
    "scrolled": true
   },
   "outputs": [],
   "source": [
    "fullmatch(pattern=\"[-$A-z][0-9]\", string=\"V5\") != None"
   ]
  },
  {
   "cell_type": "markdown",
   "id": "0968df57",
   "metadata": {},
   "source": [
    "Finally, you can negate a set of characters matching anything BUT the specified characters by starting with a carrot `^`. To match anything but vowels, you would use the regex `[^AEIOU]`. "
   ]
  },
  {
   "cell_type": "code",
   "execution_count": null,
   "id": "b0d54214",
   "metadata": {},
   "outputs": [],
   "source": [
    "fullmatch(pattern=\"[^AEIOU]\", string=\"I\") != None"
   ]
  },
  {
   "cell_type": "code",
   "execution_count": null,
   "id": "d23c29c2",
   "metadata": {
    "scrolled": false
   },
   "outputs": [],
   "source": [
    "fullmatch(pattern=\"[^AEIOU]\", string=\"C\") != None"
   ]
  },
  {
   "cell_type": "markdown",
   "id": "7f8b418f",
   "metadata": {},
   "source": [
    "If you happen to want to match a carrot literally in the character range, just don't put it at the beginning of the range as shown below. "
   ]
  },
  {
   "cell_type": "code",
   "execution_count": null,
   "id": "78353263",
   "metadata": {},
   "outputs": [],
   "source": [
    "fullmatch(pattern=\"[AEIOU^]\", string=\"^\") != None"
   ]
  },
  {
   "cell_type": "markdown",
   "id": "83e7777b",
   "metadata": {},
   "source": [
    "## Digit, Word, and Whitespace Characters"
   ]
  },
  {
   "cell_type": "markdown",
   "id": "1e756c45",
   "metadata": {},
   "source": [
    "There are a handful of special characters that are enabled with a backslash `\\` followed by a letter. \n",
    "\n",
    "|Pattern|Description|\n",
    "|---|----|\n",
    "|`\\s` |Whitespace (space, newline, tab)|\n",
    "|`\\S` |Not whitespace (not space)|\n",
    "|`\\d` |Digit 0-9|\n",
    "|`\\D` |Not a digit 0-9|\n",
    "|`\\w` |Word characters (alphas, digits, and underscore)|\n",
    "|`\\W` |Not a word character (alphas, digits, and underscore)|\n",
    "\n",
    "I'm not exactly a fan of the last four, as I prefer to use character ranges which in my opinion are easier to read. I could match a letter followed by two digits using ranges like this. \n",
    "\n",
    "```\n",
    "[A-z][0-9][0-9]\n",
    "```"
   ]
  },
  {
   "cell_type": "code",
   "execution_count": null,
   "id": "58ab0b96",
   "metadata": {},
   "outputs": [],
   "source": [
    "fullmatch(pattern=\"[A-z][0-9][0-9]\", string=\"A15\") != None"
   ]
  },
  {
   "cell_type": "code",
   "execution_count": null,
   "id": "abd12910",
   "metadata": {
    "scrolled": true
   },
   "outputs": [],
   "source": [
    "fullmatch(pattern=\"[A-z][0-9][0-9]\", string=\"115\") != None"
   ]
  },
  {
   "cell_type": "markdown",
   "id": "6e134419",
   "metadata": {},
   "source": [
    "But you may see folks using `\\w` for the letter and `\\d` for the digits. Don't forget to use raw strings because we are using backslashes! \n",
    "\n",
    "```\n",
    "\\w\\d\\d\n",
    "```"
   ]
  },
  {
   "cell_type": "code",
   "execution_count": null,
   "id": "4ae84316",
   "metadata": {},
   "outputs": [],
   "source": [
    "fullmatch(pattern=r\"\\w\\d\\d\", string=\"A15\") != None"
   ]
  },
  {
   "cell_type": "code",
   "execution_count": null,
   "id": "79ecd196",
   "metadata": {},
   "outputs": [],
   "source": [
    "fullmatch(pattern=r\"\\w\\d\\d\", string=\"115\") != None"
   ]
  },
  {
   "cell_type": "markdown",
   "id": "8ad80cbc",
   "metadata": {},
   "source": [
    "Now strangely, you may notice that `\\w` also matches digits and just alphabetic letters. They also match underscores. That's just how they work. `¯\\_(ツ)_/¯`"
   ]
  },
  {
   "cell_type": "code",
   "execution_count": null,
   "id": "d55c1e44",
   "metadata": {},
   "outputs": [],
   "source": [
    "fullmatch(pattern=r\"\\w\\d\\d\", string=\"_15\") != None"
   ]
  },
  {
   "cell_type": "markdown",
   "id": "9c8fe845",
   "metadata": {},
   "source": [
    "Like I said, I personally don't like using the `\\d` and `\\w` and their negated counterparts `\\D` and `\\W`. I prefer to use character ranges as I find them easier to read and interpet. But don't be surprised by these when you encounter them. \n",
    "\n",
    "I find the `\\s` and `\\S` to be useful though. We can use them to match whitespace including spaces, tabs, and newlines. Below we match a lowercase letter and a digit separated by a space. "
   ]
  },
  {
   "cell_type": "code",
   "execution_count": null,
   "id": "6241b1d4",
   "metadata": {},
   "outputs": [],
   "source": [
    "fullmatch(pattern=r\"[a-z]\\s[0-9]\", string=\"a 3\") != None"
   ]
  },
  {
   "cell_type": "code",
   "execution_count": null,
   "id": "1c4387d0",
   "metadata": {
    "scrolled": true
   },
   "outputs": [],
   "source": [
    "fullmatch(pattern=r\"[a-z]\\s[0-9]\", string=\"2 3\") != None"
   ]
  },
  {
   "cell_type": "markdown",
   "id": "313f7a74",
   "metadata": {},
   "source": [
    "You can also use a space to match a space. It just will not match tabs or newlines. "
   ]
  },
  {
   "cell_type": "code",
   "execution_count": null,
   "id": "d8575efc",
   "metadata": {},
   "outputs": [],
   "source": [
    "fullmatch(pattern=r\"[a-z] [0-9]\", string=\"a 3\") != None"
   ]
  },
  {
   "cell_type": "markdown",
   "id": "bb08e861",
   "metadata": {},
   "source": [
    "## Exercise "
   ]
  },
  {
   "cell_type": "markdown",
   "id": "831f7a9a",
   "metadata": {},
   "source": [
    "An airport in the United States must have an ICAO code that starts with \"K\" and is typically followed by three uppercase letters. Create a regex that qualifies an airport code based on this convention by completing the code (replacing the question mark \"?\") below. "
   ]
  },
  {
   "cell_type": "code",
   "execution_count": null,
   "id": "41a4e244",
   "metadata": {},
   "outputs": [],
   "source": [
    "fullmatch(pattern=?, string=\"KDFW\") != None "
   ]
  },
  {
   "cell_type": "markdown",
   "id": "238956f0",
   "metadata": {},
   "source": [
    "### SCROLL DOWN FOR ANSWER\n",
    "|<br>\n",
    "|<br>\n",
    "|<br>\n",
    "|<br>\n",
    "|<br>\n",
    "|<br>\n",
    "|<br>\n",
    "|<br>\n",
    "|<br>\n",
    "|<br>\n",
    "|<br>\n",
    "|<br>\n",
    "|<br>\n",
    "|<br>\n",
    "|<br>\n",
    "|<br>\n",
    "|<br>\n",
    "|<br>\n",
    "|<br>\n",
    "|<br>\n",
    "|<br>\n",
    "|<br>\n",
    "|<br>\n",
    "v "
   ]
  },
  {
   "cell_type": "markdown",
   "id": "4817b777",
   "metadata": {},
   "source": [
    "Use the pattern `K[A-Z][A-Z][A-Z]` to match the ICAO airport convention. "
   ]
  },
  {
   "cell_type": "code",
   "execution_count": null,
   "id": "ea30971f",
   "metadata": {},
   "outputs": [],
   "source": [
    "fullmatch(pattern=\"K[A-Z][A-Z][A-Z]\", string=\"KDFW\") != None "
   ]
  }
 ],
 "metadata": {
  "kernelspec": {
   "display_name": "Python 3 (ipykernel)",
   "language": "python",
   "name": "python3"
  },
  "language_info": {
   "codemirror_mode": {
    "name": "ipython",
    "version": 3
   },
   "file_extension": ".py",
   "mimetype": "text/x-python",
   "name": "python",
   "nbconvert_exporter": "python",
   "pygments_lexer": "ipython3",
   "version": "3.12.2"
  }
 },
 "nbformat": 4,
 "nbformat_minor": 5
}
