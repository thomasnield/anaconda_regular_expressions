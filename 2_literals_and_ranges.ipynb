{
 "cells": [
  {
   "cell_type": "markdown",
   "id": "10677b83-514d-48fc-814b-dadd92ad7477",
   "metadata": {},
   "source": [
    "# Literals and Ranges"
   ]
  },
  {
   "cell_type": "markdown",
   "id": "db8e2373-6edb-405b-b403-b6cef3ca5931",
   "metadata": {},
   "source": [
    "Arguably the two basic building blocks of regular expressions are literals and ranges. Literals are characters that do not have any function other than to represent that character *literally*. For example, alphanumeric characters like \"a\" and \"4\" represent \"a\" and \"4\" in a regular expression. They do not have any special functions. Character ranges allow us to qualify multiple characters in a given position. We will also learn how to use the escape \"\\\" operator to access other characters like whitespaces. "
   ]
  },
  {
   "cell_type": "markdown",
   "id": "01e2200b-e6d9-4af1-a724-a6ed89099337",
   "metadata": {},
   "source": [
    "## Literals"
   ]
  },
  {
   "cell_type": "code",
   "execution_count": null,
   "id": "e65fe171-87d2-4d10-b163-e4421ade53af",
   "metadata": {},
   "outputs": [],
   "source": []
  }
 ],
 "metadata": {
  "kernelspec": {
   "display_name": "Python 3 (ipykernel)",
   "language": "python",
   "name": "python3"
  },
  "language_info": {
   "codemirror_mode": {
    "name": "ipython",
    "version": 3
   },
   "file_extension": ".py",
   "mimetype": "text/x-python",
   "name": "python",
   "nbconvert_exporter": "python",
   "pygments_lexer": "ipython3",
   "version": "3.12.1"
  }
 },
 "nbformat": 4,
 "nbformat_minor": 5
}
